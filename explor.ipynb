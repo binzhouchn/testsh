{
 "cells": [
  {
   "cell_type": "code",
   "execution_count": 23,
   "metadata": {
    "ExecuteTime": {
     "end_time": "2020-03-20T03:18:21.277194Z",
     "start_time": "2020-03-20T03:18:21.212804Z"
    }
   },
   "outputs": [
    {
     "name": "stdout",
     "output_type": "stream",
     "text": [
      "{'bot_type': '0',\n",
      " 'data': [{'answer_type': 'text',\n",
      "           'options': [],\n",
      "           'text': '第二条 投保范围内容是: 本合同接受的被保险人的投保年龄为出生满28日至65周岁。'}],\n",
      " 'message': 'success',\n",
      " 'record_id': '1500a16bf84946f1a0486e08fbaae14c',\n",
      " 'status_code': 200,\n",
      " 'timestamp': 1584674301.2264235,\n",
      " 'user_id': '00023'}\n"
     ]
    }
   ],
   "source": [
    "import requests\n",
    "import json\n",
    "from pprint import pprint\n",
    "\n",
    "question = '福禄康瑞的投保范围'\n",
    "text = requests.get('http://10.28.152.182:5005/response?user=00023&input={}'.format(question))\n",
    "pprint(json.loads(text.text))"
   ]
  },
  {
   "cell_type": "code",
   "execution_count": null,
   "metadata": {},
   "outputs": [],
   "source": []
  }
 ],
 "metadata": {
  "kernelspec": {
   "display_name": "Python 3",
   "language": "python",
   "name": "python3"
  },
  "language_info": {
   "codemirror_mode": {
    "name": "ipython",
    "version": 3
   },
   "file_extension": ".py",
   "mimetype": "text/x-python",
   "name": "python",
   "nbconvert_exporter": "python",
   "pygments_lexer": "ipython3",
   "version": "3.6.1"
  }
 },
 "nbformat": 4,
 "nbformat_minor": 2
}
