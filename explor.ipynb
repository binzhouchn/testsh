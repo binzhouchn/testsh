{
 "cells": [
  {
   "cell_type": "code",
   "execution_count": 1,
   "metadata": {
    "ExecuteTime": {
     "end_time": "2020-01-13T09:07:00.194426Z",
     "start_time": "2020-01-13T09:06:59.733513Z"
    }
   },
   "outputs": [],
   "source": [
    "import re\n",
    "import numpy as np\n",
    "import pandas as pd\n",
    "import random"
   ]
  },
  {
   "cell_type": "code",
   "execution_count": 2,
   "metadata": {
    "ExecuteTime": {
     "end_time": "2020-01-13T09:07:02.641188Z",
     "start_time": "2020-01-13T09:07:02.618352Z"
    }
   },
   "outputs": [],
   "source": [
    "data = pd.read_csv('cand1.csv',header=None,sep='\\t',names=['id','text'])\n",
    "data['res'] = '不通过'"
   ]
  },
  {
   "cell_type": "code",
   "execution_count": 3,
   "metadata": {
    "ExecuteTime": {
     "end_time": "2020-01-13T09:07:04.045839Z",
     "start_time": "2020-01-13T09:07:04.038893Z"
    }
   },
   "outputs": [],
   "source": [
    "excludes = list(pd.read_csv('exclude.csv', header=None).iloc[:,0])"
   ]
  },
  {
   "cell_type": "code",
   "execution_count": 4,
   "metadata": {
    "ExecuteTime": {
     "end_time": "2020-01-13T09:07:04.788482Z",
     "start_time": "2020-01-13T09:07:04.776665Z"
    }
   },
   "outputs": [
    {
     "data": {
      "text/plain": [
       "['哎',\n",
       " '唉',\n",
       " '哀',\n",
       " '可惜',\n",
       " '哭',\n",
       " '悲',\n",
       " '惫',\n",
       " '无堪',\n",
       " '老',\n",
       " '寒',\n",
       " '处处',\n",
       " '尽',\n",
       " '平反',\n",
       " '无言',\n",
       " '负',\n",
       " '尘埃',\n",
       " '羞',\n",
       " '诶',\n",
       " '饿',\n",
       " '无心',\n",
       " '不分',\n",
       " '无',\n",
       " '非',\n",
       " '觞',\n",
       " '伤',\n",
       " '累',\n",
       " '夜',\n",
       " '失',\n",
       " '暮',\n",
       " '未知',\n",
       " '蹉跎',\n",
       " '不见',\n",
       " '难',\n",
       " '乏',\n",
       " '矣',\n",
       " '虚',\n",
       " '绿',\n",
       " '老',\n",
       " '遗',\n",
       " '慌',\n",
       " '黄',\n",
       " '谎',\n",
       " '散',\n",
       " '晚',\n",
       " '寂',\n",
       " '涕',\n",
       " '怜',\n",
       " '俗',\n",
       " '惊',\n",
       " '天真',\n",
       " '烟',\n",
       " '未出',\n",
       " '堪',\n",
       " '忧',\n",
       " '未许',\n",
       " '凉',\n",
       " '西',\n",
       " '薄',\n",
       " '折',\n",
       " '耄',\n",
       " '耋',\n",
       " '阴',\n",
       " '险',\n",
       " '平平',\n",
       " '夕阳',\n",
       " '未分',\n",
       " '伪',\n",
       " '未曾',\n",
       " '不知',\n",
       " '旧',\n",
       " '幽',\n",
       " '髦',\n",
       " '余辉',\n",
       " '故人',\n",
       " '俟',\n",
       " '嘘',\n",
       " '同归',\n",
       " '催',\n",
       " '世',\n",
       " '嗟',\n",
       " '孤',\n",
       " '叟',\n",
       " '空',\n",
       " '不亲',\n",
       " '少留',\n",
       " '降归',\n",
       " '未肯',\n",
       " '惭',\n",
       " '眠',\n",
       " '子孙',\n",
       " '一笑',\n",
       " '四千',\n",
       " '莫',\n",
       " '何须',\n",
       " '未肯',\n",
       " '辞',\n",
       " '断',\n",
       " '别离',\n",
       " '多情',\n",
       " '瞒',\n",
       " '饥',\n",
       " '鬓髪',\n",
       " '亡',\n",
       " '岐',\n",
       " '急',\n",
       " '归去',\n",
       " '夕思',\n",
       " '宦',\n",
       " '稀',\n",
       " '心机',\n",
       " '别',\n",
       " '不可',\n",
       " '不能',\n",
       " '不行',\n",
       " '不要',\n",
       " '弃',\n",
       " '休怪',\n",
       " '不关心',\n",
       " '不识',\n",
       " '未解',\n",
       " '冷',\n",
       " '不废',\n",
       " '不传',\n",
       " '敌',\n",
       " '欲姻',\n",
       " '菊花',\n",
       " '惜',\n",
       " '余威',\n",
       " '已远',\n",
       " '嚣',\n",
       " '畏',\n",
       " '不孝',\n",
       " '忘',\n",
       " '未央',\n",
       " '不再',\n",
       " '踌躇',\n",
       " '死',\n",
       " '讹',\n",
       " '鸡',\n",
       " '鬓',\n",
       " '不到',\n",
       " '栉平',\n",
       " '夔墀',\n",
       " '痴',\n",
       " '夫妇',\n",
       " '父妇',\n",
       " '不应',\n",
       " '扰',\n",
       " '泪']"
      ]
     },
     "execution_count": 4,
     "metadata": {},
     "output_type": "execute_result"
    }
   ],
   "source": [
    "excludes"
   ]
  },
  {
   "cell_type": "code",
   "execution_count": 5,
   "metadata": {
    "ExecuteTime": {
     "end_time": "2020-01-13T09:07:07.162457Z",
     "start_time": "2020-01-13T09:07:07.158550Z"
    }
   },
   "outputs": [],
   "source": [
    "def ff(sent):\n",
    "    res = [True if x in sent else False for x in excludes]\n",
    "    if sum(res) > 0:\n",
    "        return False\n",
    "    return True"
   ]
  },
  {
   "cell_type": "code",
   "execution_count": 6,
   "metadata": {
    "ExecuteTime": {
     "end_time": "2020-01-13T09:07:07.997594Z",
     "start_time": "2020-01-13T09:07:07.864822Z"
    }
   },
   "outputs": [],
   "source": [
    "data['flag'] = data.text.apply(ff)"
   ]
  },
  {
   "cell_type": "code",
   "execution_count": 7,
   "metadata": {
    "ExecuteTime": {
     "end_time": "2020-01-13T09:07:10.901000Z",
     "start_time": "2020-01-13T09:07:10.885022Z"
    }
   },
   "outputs": [
    {
     "data": {
      "text/html": [
       "<div>\n",
       "<style scoped>\n",
       "    .dataframe tbody tr th:only-of-type {\n",
       "        vertical-align: middle;\n",
       "    }\n",
       "\n",
       "    .dataframe tbody tr th {\n",
       "        vertical-align: top;\n",
       "    }\n",
       "\n",
       "    .dataframe thead th {\n",
       "        text-align: right;\n",
       "    }\n",
       "</style>\n",
       "<table border=\"1\" class=\"dataframe\">\n",
       "  <thead>\n",
       "    <tr style=\"text-align: right;\">\n",
       "      <th></th>\n",
       "      <th>id</th>\n",
       "      <th>text</th>\n",
       "      <th>res</th>\n",
       "      <th>flag</th>\n",
       "    </tr>\n",
       "  </thead>\n",
       "  <tbody>\n",
       "    <tr>\n",
       "      <td>0</td>\n",
       "      <td>0</td>\n",
       "      <td>心清惊小雨，想到看清谈。事与浮名重，成爲一念留。</td>\n",
       "      <td>不通过</td>\n",
       "      <td>False</td>\n",
       "    </tr>\n",
       "    <tr>\n",
       "      <td>1</td>\n",
       "      <td>1</td>\n",
       "      <td>心赏有时有，想君无遁多。事亲谁復问，成达更何须。</td>\n",
       "      <td>不通过</td>\n",
       "      <td>False</td>\n",
       "    </tr>\n",
       "    <tr>\n",
       "      <td>2</td>\n",
       "      <td>2</td>\n",
       "      <td>心期近晚雨丝长，想见渔翁旧地开。事向古来人莫问，成都又作二千秋。</td>\n",
       "      <td>不通过</td>\n",
       "      <td>False</td>\n",
       "    </tr>\n",
       "    <tr>\n",
       "      <td>3</td>\n",
       "      <td>3</td>\n",
       "      <td>心与衆物竞，想称明所多。事从来出入，成寐只应无。</td>\n",
       "      <td>不通过</td>\n",
       "      <td>False</td>\n",
       "    </tr>\n",
       "    <tr>\n",
       "      <td>4</td>\n",
       "      <td>4</td>\n",
       "      <td>心意如爲相，想同行久难。事亲虽在晚，成趣始其朝。</td>\n",
       "      <td>不通过</td>\n",
       "      <td>False</td>\n",
       "    </tr>\n",
       "    <tr>\n",
       "      <td>...</td>\n",
       "      <td>...</td>\n",
       "      <td>...</td>\n",
       "      <td>...</td>\n",
       "      <td>...</td>\n",
       "    </tr>\n",
       "    <tr>\n",
       "      <td>9995</td>\n",
       "      <td>9995</td>\n",
       "      <td>心从江右无奇事，想取相寻寄客归。事好未能安妙语，成行无处觅青林。</td>\n",
       "      <td>不通过</td>\n",
       "      <td>False</td>\n",
       "    </tr>\n",
       "    <tr>\n",
       "      <td>9996</td>\n",
       "      <td>9996</td>\n",
       "      <td>心情高步不求分，想得登人慰北陶。事业不知应说说，成家犹可是诗篇。</td>\n",
       "      <td>不通过</td>\n",
       "      <td>False</td>\n",
       "    </tr>\n",
       "    <tr>\n",
       "      <td>9997</td>\n",
       "      <td>9997</td>\n",
       "      <td>心情难自忘，想像无相忘。事从周友颂，成是富名人。</td>\n",
       "      <td>不通过</td>\n",
       "      <td>False</td>\n",
       "    </tr>\n",
       "    <tr>\n",
       "      <td>9998</td>\n",
       "      <td>9998</td>\n",
       "      <td>心地随轩下，想思须下题。事从新息乐，成感又东流。</td>\n",
       "      <td>不通过</td>\n",
       "      <td>True</td>\n",
       "    </tr>\n",
       "    <tr>\n",
       "      <td>9999</td>\n",
       "      <td>9999</td>\n",
       "      <td>心迹深林事未忘，想来何用独萧然。事须倦鸟穿危壁，成梦惊人说故乡。</td>\n",
       "      <td>不通过</td>\n",
       "      <td>False</td>\n",
       "    </tr>\n",
       "  </tbody>\n",
       "</table>\n",
       "<p>10000 rows × 4 columns</p>\n",
       "</div>"
      ],
      "text/plain": [
       "        id                              text  res   flag\n",
       "0        0          心清惊小雨，想到看清谈。事与浮名重，成爲一念留。  不通过  False\n",
       "1        1          心赏有时有，想君无遁多。事亲谁復问，成达更何须。  不通过  False\n",
       "2        2  心期近晚雨丝长，想见渔翁旧地开。事向古来人莫问，成都又作二千秋。  不通过  False\n",
       "3        3          心与衆物竞，想称明所多。事从来出入，成寐只应无。  不通过  False\n",
       "4        4          心意如爲相，想同行久难。事亲虽在晚，成趣始其朝。  不通过  False\n",
       "...    ...                               ...  ...    ...\n",
       "9995  9995  心从江右无奇事，想取相寻寄客归。事好未能安妙语，成行无处觅青林。  不通过  False\n",
       "9996  9996  心情高步不求分，想得登人慰北陶。事业不知应说说，成家犹可是诗篇。  不通过  False\n",
       "9997  9997          心情难自忘，想像无相忘。事从周友颂，成是富名人。  不通过  False\n",
       "9998  9998          心地随轩下，想思须下题。事从新息乐，成感又东流。  不通过   True\n",
       "9999  9999  心迹深林事未忘，想来何用独萧然。事须倦鸟穿危壁，成梦惊人说故乡。  不通过  False\n",
       "\n",
       "[10000 rows x 4 columns]"
      ]
     },
     "execution_count": 7,
     "metadata": {},
     "output_type": "execute_result"
    }
   ],
   "source": [
    "data"
   ]
  },
  {
   "cell_type": "code",
   "execution_count": 8,
   "metadata": {
    "ExecuteTime": {
     "end_time": "2020-01-13T09:07:13.694023Z",
     "start_time": "2020-01-13T09:07:13.687502Z"
    }
   },
   "outputs": [],
   "source": [
    "data.loc[data.flag==True,'res'] = '通过'"
   ]
  },
  {
   "cell_type": "code",
   "execution_count": 9,
   "metadata": {
    "ExecuteTime": {
     "end_time": "2020-01-13T09:07:22.916662Z",
     "start_time": "2020-01-13T09:07:22.899449Z"
    }
   },
   "outputs": [
    {
     "name": "stderr",
     "output_type": "stream",
     "text": [
      "/Users/zhoubin/anaconda3/lib/python3.6/site-packages/ipykernel_launcher.py:1: FutureWarning: The signature of `Series.to_csv` was aligned to that of `DataFrame.to_csv`, and argument 'header' will change its default value from False to True: please pass an explicit value to suppress this warning.\n",
      "  \"\"\"Entry point for launching an IPython kernel.\n"
     ]
    }
   ],
   "source": [
    "data.res.to_csv('tt2.csv',index=False)"
   ]
  },
  {
   "cell_type": "code",
   "execution_count": 11,
   "metadata": {
    "ExecuteTime": {
     "end_time": "2020-01-13T11:33:49.836457Z",
     "start_time": "2020-01-13T11:33:49.823436Z"
    }
   },
   "outputs": [
    {
     "data": {
      "text/html": [
       "<div>\n",
       "<style scoped>\n",
       "    .dataframe tbody tr th:only-of-type {\n",
       "        vertical-align: middle;\n",
       "    }\n",
       "\n",
       "    .dataframe tbody tr th {\n",
       "        vertical-align: top;\n",
       "    }\n",
       "\n",
       "    .dataframe thead th {\n",
       "        text-align: right;\n",
       "    }\n",
       "</style>\n",
       "<table border=\"1\" class=\"dataframe\">\n",
       "  <thead>\n",
       "    <tr style=\"text-align: right;\">\n",
       "      <th></th>\n",
       "      <th>id</th>\n",
       "      <th>text</th>\n",
       "      <th>res</th>\n",
       "      <th>flag</th>\n",
       "    </tr>\n",
       "  </thead>\n",
       "  <tbody>\n",
       "    <tr>\n",
       "      <td>0</td>\n",
       "      <td>0</td>\n",
       "      <td>心清惊小雨，想到看清谈。事与浮名重，成爲一念留。</td>\n",
       "      <td>不通过</td>\n",
       "      <td>False</td>\n",
       "    </tr>\n",
       "    <tr>\n",
       "      <td>1</td>\n",
       "      <td>1</td>\n",
       "      <td>心赏有时有，想君无遁多。事亲谁復问，成达更何须。</td>\n",
       "      <td>不通过</td>\n",
       "      <td>False</td>\n",
       "    </tr>\n",
       "    <tr>\n",
       "      <td>2</td>\n",
       "      <td>2</td>\n",
       "      <td>心期近晚雨丝长，想见渔翁旧地开。事向古来人莫问，成都又作二千秋。</td>\n",
       "      <td>不通过</td>\n",
       "      <td>False</td>\n",
       "    </tr>\n",
       "    <tr>\n",
       "      <td>3</td>\n",
       "      <td>3</td>\n",
       "      <td>心与衆物竞，想称明所多。事从来出入，成寐只应无。</td>\n",
       "      <td>不通过</td>\n",
       "      <td>False</td>\n",
       "    </tr>\n",
       "    <tr>\n",
       "      <td>4</td>\n",
       "      <td>4</td>\n",
       "      <td>心意如爲相，想同行久难。事亲虽在晚，成趣始其朝。</td>\n",
       "      <td>不通过</td>\n",
       "      <td>False</td>\n",
       "    </tr>\n",
       "    <tr>\n",
       "      <td>...</td>\n",
       "      <td>...</td>\n",
       "      <td>...</td>\n",
       "      <td>...</td>\n",
       "      <td>...</td>\n",
       "    </tr>\n",
       "    <tr>\n",
       "      <td>9995</td>\n",
       "      <td>9995</td>\n",
       "      <td>心从江右无奇事，想取相寻寄客归。事好未能安妙语，成行无处觅青林。</td>\n",
       "      <td>不通过</td>\n",
       "      <td>False</td>\n",
       "    </tr>\n",
       "    <tr>\n",
       "      <td>9996</td>\n",
       "      <td>9996</td>\n",
       "      <td>心情高步不求分，想得登人慰北陶。事业不知应说说，成家犹可是诗篇。</td>\n",
       "      <td>不通过</td>\n",
       "      <td>False</td>\n",
       "    </tr>\n",
       "    <tr>\n",
       "      <td>9997</td>\n",
       "      <td>9997</td>\n",
       "      <td>心情难自忘，想像无相忘。事从周友颂，成是富名人。</td>\n",
       "      <td>不通过</td>\n",
       "      <td>False</td>\n",
       "    </tr>\n",
       "    <tr>\n",
       "      <td>9998</td>\n",
       "      <td>9998</td>\n",
       "      <td>心地随轩下，想思须下题。事从新息乐，成感又东流。</td>\n",
       "      <td>通过</td>\n",
       "      <td>True</td>\n",
       "    </tr>\n",
       "    <tr>\n",
       "      <td>9999</td>\n",
       "      <td>9999</td>\n",
       "      <td>心迹深林事未忘，想来何用独萧然。事须倦鸟穿危壁，成梦惊人说故乡。</td>\n",
       "      <td>不通过</td>\n",
       "      <td>False</td>\n",
       "    </tr>\n",
       "  </tbody>\n",
       "</table>\n",
       "<p>10000 rows × 4 columns</p>\n",
       "</div>"
      ],
      "text/plain": [
       "        id                              text  res   flag\n",
       "0        0          心清惊小雨，想到看清谈。事与浮名重，成爲一念留。  不通过  False\n",
       "1        1          心赏有时有，想君无遁多。事亲谁復问，成达更何须。  不通过  False\n",
       "2        2  心期近晚雨丝长，想见渔翁旧地开。事向古来人莫问，成都又作二千秋。  不通过  False\n",
       "3        3          心与衆物竞，想称明所多。事从来出入，成寐只应无。  不通过  False\n",
       "4        4          心意如爲相，想同行久难。事亲虽在晚，成趣始其朝。  不通过  False\n",
       "...    ...                               ...  ...    ...\n",
       "9995  9995  心从江右无奇事，想取相寻寄客归。事好未能安妙语，成行无处觅青林。  不通过  False\n",
       "9996  9996  心情高步不求分，想得登人慰北陶。事业不知应说说，成家犹可是诗篇。  不通过  False\n",
       "9997  9997          心情难自忘，想像无相忘。事从周友颂，成是富名人。  不通过  False\n",
       "9998  9998          心地随轩下，想思须下题。事从新息乐，成感又东流。   通过   True\n",
       "9999  9999  心迹深林事未忘，想来何用独萧然。事须倦鸟穿危壁，成梦惊人说故乡。  不通过  False\n",
       "\n",
       "[10000 rows x 4 columns]"
      ]
     },
     "execution_count": 11,
     "metadata": {},
     "output_type": "execute_result"
    }
   ],
   "source": [
    "data"
   ]
  },
  {
   "cell_type": "code",
   "execution_count": null,
   "metadata": {},
   "outputs": [],
   "source": []
  },
  {
   "cell_type": "code",
   "execution_count": null,
   "metadata": {},
   "outputs": [],
   "source": []
  },
  {
   "cell_type": "code",
   "execution_count": null,
   "metadata": {},
   "outputs": [],
   "source": []
  },
  {
   "cell_type": "code",
   "execution_count": null,
   "metadata": {},
   "outputs": [],
   "source": []
  }
 ],
 "metadata": {
  "kernelspec": {
   "display_name": "Python 3",
   "language": "python",
   "name": "python3"
  },
  "language_info": {
   "codemirror_mode": {
    "name": "ipython",
    "version": 3
   },
   "file_extension": ".py",
   "mimetype": "text/x-python",
   "name": "python",
   "nbconvert_exporter": "python",
   "pygments_lexer": "ipython3",
   "version": "3.6.1"
  }
 },
 "nbformat": 4,
 "nbformat_minor": 2
}
