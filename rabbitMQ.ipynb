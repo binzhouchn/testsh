{
 "cells": [
  {
   "cell_type": "code",
   "execution_count": 57,
   "metadata": {
    "ExecuteTime": {
     "end_time": "2020-01-15T09:45:26.139917Z",
     "start_time": "2020-01-15T09:45:26.134259Z"
    }
   },
   "outputs": [],
   "source": [
    "import numpy as np\n",
    "import pandas as pd\n",
    "import json"
   ]
  },
  {
   "cell_type": "code",
   "execution_count": 68,
   "metadata": {
    "ExecuteTime": {
     "end_time": "2020-01-15T09:59:02.935554Z",
     "start_time": "2020-01-15T09:59:02.901248Z"
    }
   },
   "outputs": [
    {
     "name": "stdout",
     "output_type": "stream",
     "text": [
      " [x] Sent 'Hello World!'\n"
     ]
    }
   ],
   "source": [
    "#!/usr/bin/env python\n",
    "import pika\n",
    "\n",
    "class Question:\n",
    "\n",
    "    def __init__(self, _id, question, score=None):\n",
    "        self.id = _id\n",
    "        self.question = question\n",
    "        self.score = score\n",
    "\n",
    "\n",
    "    def to_string(self):\n",
    "        result = \"Question(id:{}, question:{}, score:{})\".format(self.id, self.question, self.score)\n",
    "        return result\n",
    "    \n",
    "    def __len__(self):\n",
    "        return 5\n",
    "\n",
    "qq = Question(15,'没钱怎么办',2)\n",
    "\n",
    "\n",
    "\n",
    "connection = pika.BlockingConnection(\n",
    "    pika.ConnectionParameters(host='10.100.129.81'))\n",
    "channel = connection.channel()\n",
    "\n",
    "channel.queue_declare(queue='hello')\n",
    "\n",
    "# channel.basic_publish(exchange='', routing_key='hello', body='Hello World!')\n",
    "channel.basic_publish(exchange='', routing_key='hello', body=json.dumps({'vector':[1.023,3.9,5.66666],'action':'handle'}))\n",
    "print(\" [x] Sent 'Hello World!'\")\n",
    "connection.close()"
   ]
  },
  {
   "cell_type": "code",
   "execution_count": 70,
   "metadata": {
    "ExecuteTime": {
     "end_time": "2020-01-15T10:03:44.229378Z",
     "start_time": "2020-01-15T10:03:44.224256Z"
    }
   },
   "outputs": [
    {
     "data": {
      "text/plain": [
       "'[-1.4458979878968896, 2.645345354, 3.9999999, 4.023, 5.11]'"
      ]
     },
     "execution_count": 70,
     "metadata": {},
     "output_type": "execute_result"
    }
   ],
   "source": [
    "import json\n",
    "aa = np.array([-1.4458979878968897,2.645345354,3.9999999,4.023,5.11])\n",
    "a = json.dumps(list(aa))\n",
    "a"
   ]
  },
  {
   "cell_type": "code",
   "execution_count": 71,
   "metadata": {
    "ExecuteTime": {
     "end_time": "2020-01-15T10:03:46.582893Z",
     "start_time": "2020-01-15T10:03:46.578614Z"
    }
   },
   "outputs": [
    {
     "data": {
      "text/plain": [
       "[-1.4458979878968896, 2.645345354, 3.9999999, 4.023, 5.11]"
      ]
     },
     "execution_count": 71,
     "metadata": {},
     "output_type": "execute_result"
    }
   ],
   "source": [
    "b = json.loads(a)\n",
    "b"
   ]
  },
  {
   "cell_type": "code",
   "execution_count": 73,
   "metadata": {
    "ExecuteTime": {
     "end_time": "2020-01-15T12:57:22.441946Z",
     "start_time": "2020-01-15T12:57:22.437667Z"
    }
   },
   "outputs": [
    {
     "data": {
      "text/plain": [
       "<map at 0x12131b6d8>"
      ]
     },
     "execution_count": 73,
     "metadata": {},
     "output_type": "execute_result"
    }
   ],
   "source": [
    "map(float, aa)"
   ]
  },
  {
   "cell_type": "code",
   "execution_count": null,
   "metadata": {},
   "outputs": [],
   "source": []
  }
 ],
 "metadata": {
  "kernelspec": {
   "display_name": "Python 3",
   "language": "python",
   "name": "python3"
  },
  "language_info": {
   "codemirror_mode": {
    "name": "ipython",
    "version": 3
   },
   "file_extension": ".py",
   "mimetype": "text/x-python",
   "name": "python",
   "nbconvert_exporter": "python",
   "pygments_lexer": "ipython3",
   "version": "3.6.1"
  }
 },
 "nbformat": 4,
 "nbformat_minor": 2
}
