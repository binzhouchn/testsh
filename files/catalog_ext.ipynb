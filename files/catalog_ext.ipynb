{
 "cells": [
  {
   "cell_type": "code",
   "execution_count": 211,
   "metadata": {
    "ExecuteTime": {
     "end_time": "2019-07-22T10:01:13.857580Z",
     "start_time": "2019-07-22T10:01:13.853695Z"
    },
    "collapsed": true,
    "scrolled": false
   },
   "outputs": [],
   "source": [
    "import os\n",
    "import time\n",
    "import re\n",
    "import math\n",
    "import numpy as np\n",
    "import pdfplumber\n",
    "from decimal import Decimal\n",
    "import matplotlib.pyplot as plt\n",
    "import seaborn as sns"
   ]
  },
  {
   "cell_type": "code",
   "execution_count": 2,
   "metadata": {
    "ExecuteTime": {
     "end_time": "2019-07-22T02:04:43.500958Z",
     "start_time": "2019-07-22T02:04:43.379237Z"
    }
   },
   "outputs": [
    {
     "name": "stdout",
     "output_type": "stream",
     "text": [
      "/Users/zhoubin/Desktop/tpl_ALFramework/pdf_convert/catalogue_extract\r\n"
     ]
    }
   ],
   "source": [
    "!pwd"
   ]
  },
  {
   "cell_type": "markdown",
   "metadata": {},
   "source": [
    "# 1. 用pdfplumber解析目录"
   ]
  },
  {
   "cell_type": "code",
   "execution_count": 3,
   "metadata": {
    "ExecuteTime": {
     "end_time": "2019-07-22T02:58:42.613455Z",
     "start_time": "2019-07-22T02:58:42.603861Z"
    },
    "collapsed": true
   },
   "outputs": [],
   "source": [
    "# 识别流程一 detect_catalog_pagination\n",
    "import re\n",
    "def detect_catalog_pagination(pdf):\n",
    "        catalog_type = 'clean'\n",
    "        # 定位一、二\n",
    "        for i, page in enumerate(pdf.pages):\n",
    "                if [i for i in page.extract_text().split('\\n') if i.strip().replace(' ', '') in ('目录', '条款目录')]:\n",
    "                    return i, catalog_type\n",
    "                if [i for i in page.extract_text().split('\\n') if ''.join(re.findall(u\"([\\u4e00-\\u9fa5])\",i)) in ('目录', '条款目录')]:\n",
    "                    catalog_type = 'impurity'\n",
    "                    return i, catalog_type\n",
    "        # 定位三\n",
    "        for i, page in enumerate(pdf.pages):\n",
    "            if '条款目录' in page.extract_text().strip().replace(' ',''):\n",
    "                catalog_type = 'impurity'\n",
    "                return i, catalog_type\n",
    "        return -1, catalog_type"
   ]
  },
  {
   "cell_type": "markdown",
   "metadata": {},
   "source": [
    "## 1.1 form_1 目录比较清晰，按顺序下来，没有左右的情况）（左右情况见富德人寿） clean的情况"
   ]
  },
  {
   "cell_type": "code",
   "execution_count": 4,
   "metadata": {
    "ExecuteTime": {
     "end_time": "2019-07-22T02:58:45.590652Z",
     "start_time": "2019-07-22T02:58:44.257995Z"
    }
   },
   "outputs": [
    {
     "data": {
      "text/plain": [
       "(1, 'clean')"
      ]
     },
     "execution_count": 4,
     "metadata": {},
     "output_type": "execute_result"
    }
   ],
   "source": [
    "feePDF = 'data/1-太平荣耀钻账户终身寿险（万能型）条款.pdf'\n",
    "pdf = pdfplumber.open(feePDF)\n",
    "catalog_idx, catalog_type = detect_catalog_pagination(pdf)\n",
    "catalog_idx, catalog_type"
   ]
  },
  {
   "cell_type": "code",
   "execution_count": 5,
   "metadata": {
    "ExecuteTime": {
     "end_time": "2019-07-22T02:58:46.772024Z",
     "start_time": "2019-07-22T02:58:46.717503Z"
    },
    "collapsed": true
   },
   "outputs": [],
   "source": [
    "a1 = pdf.pages[1].extract_text()\n",
    "a2 = pdf.pages[2].extract_text()"
   ]
  },
  {
   "cell_type": "code",
   "execution_count": 9,
   "metadata": {
    "ExecuteTime": {
     "end_time": "2019-07-22T02:59:09.036229Z",
     "start_time": "2019-07-22T02:59:09.012513Z"
    },
    "collapsed": true
   },
   "outputs": [],
   "source": [
    "def check(lst_1, lst_2):\n",
    "    return (lst_1[-1]+1 == lst_2[0]) or (lst_1[-1]+1 ==lst_2[-1]) or (lst_1[0]+1 == lst_2[0])\n",
    "def catalog_ext_form1(page_text, next_page_text):\n",
    "    flag = False\n",
    "    next_page_flag = False\n",
    "    next_res = []\n",
    "    chn_eng_digittran = Chn_Eng_digitTran()\n",
    "    page_text_clean = [i.strip() for i in page_text.split('\\n') if i.strip() and not re.findall(r'[\\u4e00-\\u9fa5]+\\d+[\\u4e00-\\u9fa5]*', i) and \\\n",
    "     (i.strip().replace(' ', '') != '条款目录' and i.strip().replace(' ', '') != '目录')]\n",
    "    curt_res = [re.sub(r'\\.\\.+', '', i).split() for i in page_text_clean]\n",
    "    curt_last_two = [chn_eng_digittran.trans(re.sub(r'第|条|部分','', i[0])) for i in curt_res[-2:]]\n",
    "    # check next page if has catalog\n",
    "    next_page_0 = [[re.sub(r'\\.\\.+', '', j) for j in i.split() if j] for i in next_page_text.split('\\n')]\n",
    "    next_page_1 = [i[0] for i in next_page_0 if i and re.findall(r'(?:第[一二三四五六七八九十零]+部分)|(?:第[一二三四五六七八九十零]+条)', i[0])]\n",
    "    if len(next_page_1) >= 2:\n",
    "        next_last_two = [chn_eng_digittran.trans(re.sub(r'第|条|部分','', i)) for i in next_page_1]\n",
    "        next_page_flag = not next_page_flag if check(curt_last_two, next_last_two) else next_page_flag\n",
    "    if len(next_page_1) == 1:\n",
    "        next_page_flag = not next_page_flag if (curt_last_two[-1]+1==chn_eng_digittran.trans(re.sub(r'第|条|部分','', next_page_1[0]))) else next_page_flag \n",
    "    if next_page_flag:\n",
    "        next_page_text_clean = [i for i in next_page_text.split('\\n') if re.findall(r'(?:第[一二三四五六七八九十零]+部分)|(?:第[一二三四五六七八九十零]+条)',i)]\n",
    "        next_res = [re.sub(r'\\.\\.+', '', i).split() for i in next_page_text_clean]\n",
    "    \n",
    "    return curt_res + next_res"
   ]
  },
  {
   "cell_type": "code",
   "execution_count": 14,
   "metadata": {
    "ExecuteTime": {
     "end_time": "2019-07-22T03:20:24.717389Z",
     "start_time": "2019-07-22T03:20:24.714241Z"
    },
    "collapsed": true
   },
   "outputs": [],
   "source": [
    "b = catalog_ext_form1(a1, a2)"
   ]
  },
  {
   "cell_type": "code",
   "execution_count": 8,
   "metadata": {
    "ExecuteTime": {
     "end_time": "2019-07-22T02:59:01.807550Z",
     "start_time": "2019-07-22T02:59:01.783630Z"
    },
    "collapsed": true
   },
   "outputs": [],
   "source": [
    "# small_tools 将汉字数字转成阿拉伯数字\n",
    "class Chn_Eng_digitTran:\n",
    "    '''init'''\n",
    "    def __init__(self):\n",
    "        self.digit = {'一': 1, '二': 2, '三': 3, '四': 4, '五': 5, '六': 6, '七': 7, '八': 8, '九': 9}\n",
    "\n",
    "    def _trans(self, s):\n",
    "        num = 0\n",
    "        if s:\n",
    "            idx_q, idx_b, idx_s = s.find('千'), s.find('百'), s.find('十')\n",
    "            if idx_q != -1:\n",
    "                num += self.digit[s[idx_q - 1:idx_q]] * 1000\n",
    "            if idx_b != -1:\n",
    "                num += self.digit[s[idx_b - 1:idx_b]] * 100\n",
    "            if idx_s != -1:\n",
    "                # 十前忽略一的处理\n",
    "                num += self.digit.get(s[idx_s - 1:idx_s], 1) * 10\n",
    "            if s[-1] in self.digit:\n",
    "                num += self.digit[s[-1]]\n",
    "        return num\n",
    "\n",
    "    def trans(self, chn):\n",
    "        chn = chn.replace('零', '')\n",
    "        idx_y, idx_w = chn.rfind('亿'), chn.rfind('万')\n",
    "        if idx_w < idx_y:\n",
    "            idx_w = -1\n",
    "        num_y, num_w = 100000000, 10000\n",
    "        if idx_y != -1 and idx_w != -1:\n",
    "            return self.trans(chn[:idx_y]) * num_y + self._trans(chn[idx_y + 1:idx_w]) * num_w + self._trans(chn[idx_w + 1:])\n",
    "        elif idx_y != -1:\n",
    "            return self.trans(chn[:idx_y]) * num_y + self._trans(chn[idx_y + 1:])\n",
    "        elif idx_w != -1:\n",
    "            return self._trans(chn[:idx_w]) * num_w + self._trans(chn[idx_w + 1:])\n",
    "        return self._trans(chn)\n"
   ]
  },
  {
   "cell_type": "markdown",
   "metadata": {},
   "source": [
    "## 1.2 form_2 目录竖的下来，可能有两三列（比如天安人寿）\n",
    "### 考虑clean和impurity两种情况"
   ]
  },
  {
   "cell_type": "code",
   "execution_count": 728,
   "metadata": {
    "ExecuteTime": {
     "end_time": "2019-07-19T03:09:05.359100Z",
     "start_time": "2019-07-19T03:09:02.071573Z"
    }
   },
   "outputs": [
    {
     "data": {
      "text/plain": [
       "(0, 'clean')"
      ]
     },
     "execution_count": 728,
     "metadata": {},
     "output_type": "execute_result"
    }
   ],
   "source": [
    "# feePDF = 'data/华康C款团体重大疾病保险条款.pdf'\n",
    "feePDF = 'data/1-太平荣耀钻账户终身寿险（万能型）条款.pdf'\n",
    "feePDF = 'data/天安人寿爱守护（至尊保）终身重大疾病保险条款.pdf'\n",
    "pdf = pdfplumber.open(feePDF)\n",
    "catalog_idx, catalog_type = detect_catalog_pagination(pdf)\n",
    "catalog_idx, catalog_type"
   ]
  },
  {
   "cell_type": "code",
   "execution_count": 729,
   "metadata": {
    "ExecuteTime": {
     "end_time": "2019-07-19T03:09:07.011463Z",
     "start_time": "2019-07-19T03:09:07.001268Z"
    },
    "collapsed": true
   },
   "outputs": [],
   "source": [
    "for i, page in enumerate(pdf.pages):\n",
    "    a = page.extract_text()\n",
    "    if i == 0:\n",
    "        break"
   ]
  },
  {
   "cell_type": "code",
   "execution_count": 292,
   "metadata": {
    "ExecuteTime": {
     "end_time": "2019-07-18T02:46:23.051641Z",
     "start_time": "2019-07-18T02:46:23.047997Z"
    }
   },
   "outputs": [
    {
     "data": {
      "text/plain": [
       "'\\n从条款目录开始\\n过滤掉目录到最后杂质\\n'"
      ]
     },
     "execution_count": 292,
     "metadata": {},
     "output_type": "execute_result"
    }
   ],
   "source": [
    "'''\n",
    "从条款目录开始\n",
    "过滤掉目录到最后杂质\n",
    "'''"
   ]
  },
  {
   "cell_type": "code",
   "execution_count": 478,
   "metadata": {
    "ExecuteTime": {
     "end_time": "2019-07-17T01:10:53.043268Z",
     "start_time": "2019-07-17T01:10:53.035812Z"
    },
    "collapsed": true
   },
   "outputs": [],
   "source": [
    "# 版本一\n",
    "def catalog_ext_form2(page_text):\n",
    "    flag = False\n",
    "    res = []\n",
    "    for s in page_text.split('\\n'):\n",
    "        if s.strip().replace(' ', '') in ('目录', '条款目录'):\n",
    "            flag = True\n",
    "            continue\n",
    "        if flag:\n",
    "            lst = re.findall(r'(?:\\d\\.\\d*[\\u4e00-\\u9fa5]+[、，!！&%@#$]*[\\u4e00-\\u9fa5]*)', s.strip().replace('．', '.').replace(' ', ''))\n",
    "            if not lst:\n",
    "                continue\n",
    "            lst = [re.findall(r'(\\d\\.\\d*)([\\u4e00-\\u9fa5]+[、，!！&%@#$]*[\\u4e00-\\u9fa5]*)', i)[0] for i in lst]\n",
    "            res += lst\n",
    "    return sorted(res, key=lambda x : (float(x[0].split('.')[0]), len(x[0]), float(x[0])))"
   ]
  },
  {
   "cell_type": "code",
   "execution_count": 245,
   "metadata": {
    "ExecuteTime": {
     "end_time": "2019-07-18T01:38:06.214698Z",
     "start_time": "2019-07-18T01:38:06.199117Z"
    },
    "collapsed": true
   },
   "outputs": [],
   "source": [
    "# 版本二\n",
    "def catalog_ext_form2(page_text):\n",
    "    flag = False\n",
    "    res = []\n",
    "    _d = dict()\n",
    "    _d_i = 97\n",
    "    for s in page_text.split('\\n'):\n",
    "        if s.strip().replace(' ', '') in ('目录', '条款目录'):\n",
    "            flag = True\n",
    "            continue\n",
    "        if flag:\n",
    "            l1 = re.findall(r'\\d+种', s)\n",
    "            if l1:\n",
    "                s = s.replace(l1[0], '龘龘'+chr(_d_i))\n",
    "                _d.setdefault('龘龘'+chr(_d_i), l1[0])\n",
    "                _d_i += 1\n",
    "            lst = re.findall(r'(?:\\d+\\.\\d*[\\u4e00-\\u9fa5]+[a-z]*\\d*[\\u4e00-\\u9fa5]+[、，!！&%@#$]*[\\u4e00-\\u9fa5]*)', s.strip().replace('．', '.').replace(' ', ''))\n",
    "            if not lst:\n",
    "                continue\n",
    "            lst = [re.findall(r'(\\d+\\.\\d*)([\\u4e00-\\u9fa5]+[a-z]*\\d*[\\u4e00-\\u9fa5]+[、，!！&%@#$]*[\\u4e00-\\u9fa5]*)', i)[0] for i in lst]\n",
    "            for k, v in lst:\n",
    "                l2 = re.findall(r'龘龘[a-z]+', v)\n",
    "                if l2:\n",
    "                    v = v.replace(l2[0], _d[l2[0]])\n",
    "                res.append((k, v))\n",
    "    return sorted(res, key=lambda x : (float(x[0].split('.')[0]), len(x[0]), float(x[0])))"
   ]
  },
  {
   "cell_type": "code",
   "execution_count": 236,
   "metadata": {
    "ExecuteTime": {
     "end_time": "2019-07-18T01:25:45.144675Z",
     "start_time": "2019-07-18T01:25:45.125992Z"
    },
    "collapsed": true
   },
   "outputs": [],
   "source": [
    "# 版本三\n",
    "def catalog_ext_form2(page_text):\n",
    "    flag = False\n",
    "    res = []\n",
    "    _d = dict()\n",
    "    _d_i = 97\n",
    "    for s in page_text.split('\\n'):\n",
    "        if s.strip().replace(' ', '') in ('目录', '条款目录'):\n",
    "            flag = True\n",
    "            continue\n",
    "        if flag:\n",
    "            # 85种xxx的情况\n",
    "            l1 = re.findall(r'\\d+种', s)\n",
    "            if l1:\n",
    "                s = s.replace(l1[0], '龘龘'+chr(_d_i))\n",
    "                _d.setdefault('龘龘'+chr(_d_i), l1[0])\n",
    "                _d_i += 1\n",
    "\n",
    "            # 目录数标没有点的情况，比如 【5 保险费的交纳  10其他需要关注的事项】\n",
    "            l3 = re.findall(r'(?:^\\d+(?!\\.)\\s+)|(?:\\s+\\d+(?!\\d+)(?!\\.))(?!种)', s)\n",
    "            if l3:\n",
    "                for i in l3:\n",
    "                    s = s.replace(i, ' '+i.strip()+'. ')\n",
    "            #\n",
    "            lst = re.findall(r'(?:\\d+\\.\\d*[\\u4e00-\\u9fa5]+[a-z]*\\d*[\\u4e00-\\u9fa5]+[、，!！&%@#$]*[\\u4e00-\\u9fa5]*)', s.strip().replace('．', '.').replace(' ', ''))\n",
    "            if not lst:\n",
    "                continue\n",
    "            lst = [re.findall(r'(\\d+\\.\\d*)([\\u4e00-\\u9fa5]+[a-z]*\\d*[\\u4e00-\\u9fa5]+[、，!！&%@#$]*[\\u4e00-\\u9fa5]*)', i)[0] for i in lst]\n",
    "            for k, v in lst:\n",
    "                l2 = re.findall(r'龘龘[a-z]+', v)\n",
    "                if l2:\n",
    "                    v = v.replace(l2[0], _d[l2[0]])\n",
    "                res.append((k, v))\n",
    "    return sorted(res, key=lambda x : (float(x[0].split('.')[0]), len(x[0]), float(x[0])))"
   ]
  },
  {
   "cell_type": "code",
   "execution_count": 730,
   "metadata": {
    "ExecuteTime": {
     "end_time": "2019-07-19T03:09:11.511595Z",
     "start_time": "2019-07-19T03:09:11.505735Z"
    },
    "collapsed": true
   },
   "outputs": [],
   "source": [
    "# small tools\n",
    "def xmerge(a, b):\n",
    "    alen, blen = len(a), len(b)\n",
    "    mlen = min(alen, blen)\n",
    "    for i in range(mlen):\n",
    "        yield a[i]\n",
    "        yield b[i]\n",
    "\n",
    "    if alen > blen:\n",
    "        for i in range(mlen, alen):\n",
    "            yield a[i]\n",
    "    else:\n",
    "        for i in range(mlen, blen):\n",
    "            yield b[i]"
   ]
  },
  {
   "cell_type": "code",
   "execution_count": 731,
   "metadata": {
    "ExecuteTime": {
     "end_time": "2019-07-19T03:09:11.902358Z",
     "start_time": "2019-07-19T03:09:11.871938Z"
    },
    "collapsed": true
   },
   "outputs": [],
   "source": [
    "# 版本四\n",
    "def catalog_ext_form2(page_text, mode):\n",
    "    flag = False\n",
    "    res = []\n",
    "    _d = dict()\n",
    "    _d_i = 97\n",
    "    for s in page_text.split('\\n'):\n",
    "        if not flag:\n",
    "            if mode == 'clean' and s.strip().replace(' ', '') in ('目录', '条款目录'):\n",
    "                flag = True\n",
    "                continue\n",
    "            if mode == 'impurity' and ('条款目录' in s.strip().replace(' ', '') or '目录' in s.strip().replace(' ', '')):\n",
    "                flag = True\n",
    "                continue\n",
    "        if flag:\n",
    "            # 85种xxx的情况\n",
    "            l1 = re.findall(r'\\d+种', s)\n",
    "            if l1:\n",
    "                s = s.replace(l1[0], '龘龘'+chr(_d_i))\n",
    "                _d.setdefault('龘龘'+chr(_d_i), l1[0])\n",
    "                _d_i += 1\n",
    "            # 先把字符串合并，即strip然后去掉所有空格\n",
    "            s = s.strip().replace('．', '.').replace(' ', '')\n",
    "            # 目录数标没有点的情况，比如 【5保险费的交纳10其他需要关注的事项】\n",
    "            l3 = re.findall(r'\\d+\\.*\\d*', s)\n",
    "            if l3:\n",
    "                l3_1 = re.split(r'\\d+\\.*\\d*', s)\n",
    "                l3 = [i+'.' if '.' not in i else i for i in l3]\n",
    "                s = ''.join([i for i in xmerge(l3_1, l3)])\n",
    "            #\n",
    "            lst = re.findall(r'(?:\\d+\\.\\d*[\\u4e00-\\u9fa5]+[a-z]*\\d*[\\u4e00-\\u9fa5]+[、，!！&%@#$]*[\\u4e00-\\u9fa5]*)', s)\n",
    "            if not lst:\n",
    "                continue\n",
    "            lst = [re.findall(r'(\\d+\\.\\d*)([\\u4e00-\\u9fa5]+[a-z]*\\d*[\\u4e00-\\u9fa5]+[、，!！&%@#$]*[\\u4e00-\\u9fa5]*)', i)[0] for i in lst]\n",
    "            for k, v in lst:\n",
    "                l2 = re.findall(r'龘龘[a-z]+', v)\n",
    "                if l2:\n",
    "                    v = v.replace(l2[0], _d[l2[0]])\n",
    "                res.append((k, v))\n",
    "    return sorted(res, key=lambda x : (float(x[0].split('.')[0]), len(x[0]), float(x[0])))"
   ]
  },
  {
   "cell_type": "code",
   "execution_count": 15,
   "metadata": {
    "ExecuteTime": {
     "end_time": "2019-07-22T03:20:39.386221Z",
     "start_time": "2019-07-22T03:20:39.383707Z"
    },
    "collapsed": true
   },
   "outputs": [],
   "source": [
    "# mode = 'impurity'\n",
    "mode = 'clean'\n",
    "catalog_ext_form2(a, mode)"
   ]
  },
  {
   "cell_type": "code",
   "execution_count": null,
   "metadata": {
    "collapsed": true
   },
   "outputs": [],
   "source": []
  },
  {
   "cell_type": "markdown",
   "metadata": {
    "collapsed": true
   },
   "source": [
    "# 2. 用pdfplumber解析文本"
   ]
  },
  {
   "cell_type": "code",
   "execution_count": 107,
   "metadata": {
    "ExecuteTime": {
     "end_time": "2019-07-22T08:03:12.151561Z",
     "start_time": "2019-07-22T08:03:10.991554Z"
    },
    "collapsed": true
   },
   "outputs": [],
   "source": [
    "feePDF = 'data/1-太平附加共享荣耀多次给付重大疾病保险条款.pdf'\n",
    "pdf = pdfplumber.open(feePDF)"
   ]
  },
  {
   "cell_type": "code",
   "execution_count": 108,
   "metadata": {
    "ExecuteTime": {
     "end_time": "2019-07-22T08:03:12.565047Z",
     "start_time": "2019-07-22T08:03:12.533556Z"
    },
    "collapsed": true
   },
   "outputs": [],
   "source": [
    "a = pdf.pages[2]"
   ]
  },
  {
   "cell_type": "code",
   "execution_count": 194,
   "metadata": {
    "ExecuteTime": {
     "end_time": "2019-07-22T09:41:53.635113Z",
     "start_time": "2019-07-22T09:41:53.621165Z"
    }
   },
   "outputs": [
    {
     "data": {
      "text/plain": [
       "[{'bottom': Decimal('99.272'),\n",
       "  'text': '第一部分',\n",
       "  'top': Decimal('87.272'),\n",
       "  'x0': Decimal('121.460'),\n",
       "  'x1': Decimal('169.676')},\n",
       " {'bottom': Decimal('99.272'),\n",
       "  'text': '您（投保人）与我们（太平人寿保险有限公司）的合同',\n",
       "  'top': Decimal('87.272'),\n",
       "  'x0': Decimal('192.410'),\n",
       "  'x1': Decimal('481.546')},\n",
       " {'bottom': Decimal('129.909'),\n",
       "  'text': '第一条',\n",
       "  'top': Decimal('119.349'),\n",
       "  'x0': Decimal('53.880'),\n",
       "  'x1': Decimal('85.560')},\n",
       " {'bottom': Decimal('129.909'),\n",
       "  'text': '保险合同的构成',\n",
       "  'top': Decimal('119.349'),\n",
       "  'x0': Decimal('96.504'),\n",
       "  'x1': Decimal('170.424')},\n",
       " {'bottom': Decimal('145.509'),\n",
       "  'text': '本附加合同依您的申请，可附加于我们提供的主合同之上，经我们审核同意，并在保险单或批注中列明',\n",
       "  'top': Decimal('134.949'),\n",
       "  'x0': Decimal('74.904'),\n",
       "  'x1': Decimal('549.205')},\n",
       " {'bottom': Decimal('161.109'),\n",
       "  'text': '后生效。',\n",
       "  'top': Decimal('150.549'),\n",
       "  'x0': Decimal('53.880'),\n",
       "  'x1': Decimal('96.004')},\n",
       " {'bottom': Decimal('176.709'),\n",
       "  'text': '主合同的条款中与本附加合同相关的部分均为本附加合同的构成部分，如果主合同与本附加合同的条款',\n",
       "  'top': Decimal('166.149'),\n",
       "  'x0': Decimal('74.904'),\n",
       "  'x1': Decimal('549.228')},\n",
       " {'bottom': Decimal('192.309'),\n",
       "  'text': '内容互有冲突，则以本附加合同为准。',\n",
       "  'top': Decimal('181.749'),\n",
       "  'x0': Decimal('53.880'),\n",
       "  'x1': Decimal('232.587')},\n",
       " {'bottom': Decimal('223.509'),\n",
       "  'text': '第二条',\n",
       "  'top': Decimal('212.949'),\n",
       "  'x0': Decimal('53.880'),\n",
       "  'x1': Decimal('85.560')},\n",
       " {'bottom': Decimal('223.509'),\n",
       "  'text': '投保范围',\n",
       "  'top': Decimal('212.949'),\n",
       "  'x0': Decimal('96.504'),\n",
       "  'x1': Decimal('138.744')},\n",
       " {'bottom': Decimal('239.901'),\n",
       "  'text': '本附加合同接受的被保险人的投保年龄为出生满28日至65周岁1。',\n",
       "  'top': Decimal('227.868'),\n",
       "  'x0': Decimal('74.904'),\n",
       "  'x1': Decimal('383.110')},\n",
       " {'bottom': Decimal('270.339'),\n",
       "  'text': '第三条',\n",
       "  'top': Decimal('259.779'),\n",
       "  'x0': Decimal('53.880'),\n",
       "  'x1': Decimal('85.560')},\n",
       " {'bottom': Decimal('270.339'),\n",
       "  'text': '保险合同成立与生效',\n",
       "  'top': Decimal('259.779'),\n",
       "  'x0': Decimal('96.504'),\n",
       "  'x1': Decimal('191.544')},\n",
       " {'bottom': Decimal('285.939'),\n",
       "  'text': '您提出保险申请、我们同意承保，本附加合同成立。',\n",
       "  'top': Decimal('275.379'),\n",
       "  'x0': Decimal('74.904'),\n",
       "  'x1': Decimal('316.622')},\n",
       " {'bottom': Decimal('301.539'),\n",
       "  'text': '合同生效日期在保险单上载明。保单年度2、保险费约定支付日3均以该日期计算。',\n",
       "  'top': Decimal('290.298'),\n",
       "  'x0': Decimal('74.904'),\n",
       "  'x1': Decimal('450.082')},\n",
       " {'bottom': Decimal('332.739'),\n",
       "  'text': '第四条',\n",
       "  'top': Decimal('322.179'),\n",
       "  'x0': Decimal('53.880'),\n",
       "  'x1': Decimal('85.560')},\n",
       " {'bottom': Decimal('332.739'),\n",
       "  'text': '保险期间',\n",
       "  'top': Decimal('322.179'),\n",
       "  'x0': Decimal('96.504'),\n",
       "  'x1': Decimal('138.740')},\n",
       " {'bottom': Decimal('348.339'),\n",
       "  'text': '本附加合同的保险期间为终身，自本附加合同生效日零时起至被保险人身故时止，并在保险单上载明。',\n",
       "  'top': Decimal('337.779'),\n",
       "  'x0': Decimal('74.904'),\n",
       "  'x1': Decimal('547.776')},\n",
       " {'bottom': Decimal('380.102'),\n",
       "  'text': '第二部分',\n",
       "  'top': Decimal('368.102'),\n",
       "  'x0': Decimal('205.850'),\n",
       "  'x1': Decimal('254.066')},\n",
       " {'bottom': Decimal('380.102'),\n",
       "  'text': '我们提供哪些保障利益',\n",
       "  'top': Decimal('368.102'),\n",
       "  'x0': Decimal('276.790'),\n",
       "  'x1': Decimal('397.222')},\n",
       " {'bottom': Decimal('410.739'),\n",
       "  'text': '第五条',\n",
       "  'top': Decimal('400.179'),\n",
       "  'x0': Decimal('53.880'),\n",
       "  'x1': Decimal('85.560')},\n",
       " {'bottom': Decimal('410.739'),\n",
       "  'text': '基本保险金额',\n",
       "  'top': Decimal('400.179'),\n",
       "  'x0': Decimal('96.504'),\n",
       "  'x1': Decimal('159.864')},\n",
       " {'bottom': Decimal('426.359'),\n",
       "  'text': '本附加合同的基本保险金额在投保时由您和我们约定，并在保险单或批注上列明。如果该金额发生变更，',\n",
       "  'top': Decimal('415.799'),\n",
       "  'x0': Decimal('74.904'),\n",
       "  'x1': Decimal('554.743')},\n",
       " {'bottom': Decimal('441.959'),\n",
       "  'text': '则以变更后的金额为基本保险金额。',\n",
       "  'top': Decimal('431.399'),\n",
       "  'x0': Decimal('53.880'),\n",
       "  'x1': Decimal('222.143')},\n",
       " {'bottom': Decimal('473.159'),\n",
       "  'text': '第六条',\n",
       "  'top': Decimal('462.599'),\n",
       "  'x0': Decimal('53.880'),\n",
       "  'x1': Decimal('85.560')},\n",
       " {'bottom': Decimal('473.159'),\n",
       "  'text': '等待期',\n",
       "  'top': Decimal('462.599'),\n",
       "  'x0': Decimal('95.904'),\n",
       "  'x1': Decimal('127.584')},\n",
       " {'bottom': Decimal('489.551'),\n",
       "  'text': '自本附加合同生效日零时起90日为等待期。如果本附加合同曾一次或多次恢复效力，则自每次合同效力',\n",
       "  'top': Decimal('478.199'),\n",
       "  'x0': Decimal('74.904'),\n",
       "  'x1': Decimal('549.480')},\n",
       " {'bottom': Decimal('505.151'),\n",
       "  'text': '恢复之日零时起90日均为等待期。',\n",
       "  'top': Decimal('493.799'),\n",
       "  'x0': Decimal('53.880'),\n",
       "  'x1': Decimal('216.752')},\n",
       " {'bottom': Decimal('535.559'),\n",
       "  'text': '第七条',\n",
       "  'top': Decimal('524.999'),\n",
       "  'x0': Decimal('53.880'),\n",
       "  'x1': Decimal('85.560')},\n",
       " {'bottom': Decimal('535.559'),\n",
       "  'text': '保险责任',\n",
       "  'top': Decimal('524.999'),\n",
       "  'x0': Decimal('96.504'),\n",
       "  'x1': Decimal('138.744')},\n",
       " {'bottom': Decimal('551.159'),\n",
       "  'text': '在本附加合同保险期间内且本附加合同有效，我们按照下列约定承担相应的保险责任：',\n",
       "  'top': Decimal('540.599'),\n",
       "  'x0': Decimal('74.904'),\n",
       "  'x1': Decimal('474.344')},\n",
       " {'bottom': Decimal('566.759'),\n",
       "  'text': '一、重大疾病豁免保险费',\n",
       "  'top': Decimal('556.199'),\n",
       "  'x0': Decimal('74.904'),\n",
       "  'x1': Decimal('190.599')},\n",
       " {'bottom': Decimal('583.151'),\n",
       "  'text': '1.',\n",
       "  'top': Decimal('573.552'),\n",
       "  'x0': Decimal('74.904'),\n",
       "  'x1': Decimal('82.824')},\n",
       " {'bottom': Decimal('582.359'),\n",
       "  'text': '如果被保险人因意外伤害事故4或等待期后因意外伤害事故以外的原因导致被保险人经医院5由专科医',\n",
       "  'top': Decimal('571.118'),\n",
       "  'x0': Decimal('88.104'),\n",
       "  'x1': Decimal('549.346')},\n",
       " {'bottom': Decimal('637.109'),\n",
       "  'text': '1周岁：指按照居民身份证、军官证、警官证、士兵证等有效身份证件中记载的出生日期计算的年龄，自出生',\n",
       "  'top': Decimal('625.757'),\n",
       "  'x0': Decimal('53.880'),\n",
       "  'x1': Decimal('549.600')},\n",
       " {'bottom': Decimal('650.669'),\n",
       "  'text': '之日起为零周岁，每经过一年增加一岁，不足一年的不计。',\n",
       "  'top': Decimal('640.109'),\n",
       "  'x0': Decimal('53.880'),\n",
       "  'x1': Decimal('327.162')},\n",
       " {'bottom': Decimal('664.349'),\n",
       "  'text': '2保单年度：从保险合同生效日或年生效对应日零时起至下一年度保险合同生效对应日零时止为一个保单年',\n",
       "  'top': Decimal('652.997'),\n",
       "  'x0': Decimal('53.880'),\n",
       "  'x1': Decimal('540.933')},\n",
       " {'bottom': Decimal('677.909'),\n",
       "  'text': '度。如果当月无对应的同一日，则以该月最后一日为对应日。',\n",
       "  'top': Decimal('667.349'),\n",
       "  'x0': Decimal('53.880'),\n",
       "  'x1': Decimal('337.750')},\n",
       " {'bottom': Decimal('691.589'),\n",
       "  'text': '3保险费约定支付日：指在本附加合同交费期限内，保险单或批注上列明的合同生效日在每月、每季、每半年',\n",
       "  'top': Decimal('680.237'),\n",
       "  'x0': Decimal('53.880'),\n",
       "  'x1': Decimal('549.436')},\n",
       " {'bottom': Decimal('705.149'),\n",
       "  'text': '或每年（根据交费方式确定）的对应日。如果当月无对应的同一日，则以该月最后一日作为对应日。',\n",
       "  'top': Decimal('694.589'),\n",
       "  'x0': Decimal('53.880'),\n",
       "  'x1': Decimal('516.352')},\n",
       " {'bottom': Decimal('718.825'),\n",
       "  'text': '4意外伤害事故：指外来的、突发的、非本意的、非疾病的使身体受到伤害的客观事件。',\n",
       "  'top': Decimal('707.473'),\n",
       "  'x0': Decimal('53.880'),\n",
       "  'x1': Decimal('457.034')},\n",
       " {'bottom': Decimal('732.385'),\n",
       "  'text': '5医院：国务院卫生行政部门医院等级分类中的二级或二级以上的医院，但不包括主要为门诊、康复、护理、',\n",
       "  'top': Decimal('721.033'),\n",
       "  'x0': Decimal('53.880'),\n",
       "  'x1': Decimal('551.391')},\n",
       " {'bottom': Decimal('746.065'),\n",
       "  'text': '疗养、戒酒、戒毒或相类似的医疗机构。同时该医院必须具有符合有关医院管理规定设置标准的医疗设备，',\n",
       "  'top': Decimal('735.505'),\n",
       "  'x0': Decimal('53.880'),\n",
       "  'x1': Decimal('547.877')},\n",
       " {'bottom': Decimal('760.441'),\n",
       "  'text': '并且提供24小时有合格医师及护士驻院的医疗和护理等服务。',\n",
       "  'top': Decimal('749.089'),\n",
       "  'x0': Decimal('53.880'),\n",
       "  'x1': Decimal('342.910')},\n",
       " {'bottom': Decimal('774.121'),\n",
       "  'text': '太平附加共享荣耀多次给付重大疾病保险，第3页，共20页',\n",
       "  'top': Decimal('762.769'),\n",
       "  'x0': Decimal('167.690'),\n",
       "  'x1': Decimal('435.700')}]"
      ]
     },
     "execution_count": 194,
     "metadata": {},
     "output_type": "execute_result"
    }
   ],
   "source": [
    "a.extract_words()"
   ]
  },
  {
   "cell_type": "code",
   "execution_count": 261,
   "metadata": {
    "ExecuteTime": {
     "end_time": "2019-07-22T11:23:34.228607Z",
     "start_time": "2019-07-22T11:23:34.217190Z"
    },
    "collapsed": true
   },
   "outputs": [],
   "source": [
    "def get_horizontal_parts_for_one_page(page):\n",
    "    np_lst = np.zeros(round(page.bbox[3]))\n",
    "    np_lst_len = len(np_lst)\n",
    "    words_lst = page.extract_words()\n",
    "    for words in words_lst:\n",
    "        idx_set = set(list(range(round(words['top']), round(words['bottom']))))\n",
    "        np_lst += [1 * (float(words['x1'])-float(words['x0'])) if i in idx_set else 0 for i in range(np_lst_len)]\n",
    "    s_encode = ''.join(map(lambda x: str(math.ceil(x))[0], np_lst))\n",
    "    res = list(re.finditer(r'0{10,}', s_encode))\n",
    "    \n",
    "    # plot\n",
    "    sns.plt.plot(np_lst)\n",
    "    for i in res:\n",
    "        sns.plt.plot(list(i.span()),[0,0], 'r')  \n",
    "    \n",
    "    return res"
   ]
  },
  {
   "cell_type": "code",
   "execution_count": 263,
   "metadata": {
    "ExecuteTime": {
     "end_time": "2019-07-22T11:23:45.128148Z",
     "start_time": "2019-07-22T11:23:44.925933Z"
    }
   },
   "outputs": [
    {
     "data": {
      "text/plain": [
       "[<_sre.SRE_Match object; span=(0, 87), match='0000000000000000000000000000000000000000000000000>,\n",
       " <_sre.SRE_Match object; span=(99, 119), match='00000000000000000000'>,\n",
       " <_sre.SRE_Match object; span=(192, 213), match='000000000000000000000'>,\n",
       " <_sre.SRE_Match object; span=(240, 260), match='00000000000000000000'>,\n",
       " <_sre.SRE_Match object; span=(302, 322), match='00000000000000000000'>,\n",
       " <_sre.SRE_Match object; span=(348, 368), match='00000000000000000000'>,\n",
       " <_sre.SRE_Match object; span=(380, 400), match='00000000000000000000'>,\n",
       " <_sre.SRE_Match object; span=(442, 463), match='000000000000000000000'>,\n",
       " <_sre.SRE_Match object; span=(505, 525), match='00000000000000000000'>,\n",
       " <_sre.SRE_Match object; span=(583, 626), match='0000000000000000000000000000000000000000000'>,\n",
       " <_sre.SRE_Match object; span=(774, 808), match='0000000000000000000000000000000000'>]"
      ]
     },
     "execution_count": 263,
     "metadata": {},
     "output_type": "execute_result"
    },
    {
     "data": {
      "image/png": "[encoded data removed]",
      "text/plain": [
       "<matplotlib.figure.Figure at 0x1272be470>"
      ]
     },
     "metadata": {},
     "output_type": "display_data"
    }
   ],
   "source": [
    "c = get_horizontal_parts_for_one_page(a)\n",
    "c"
   ]
  },
  {
   "cell_type": "code",
   "execution_count": null,
   "metadata": {
    "collapsed": true
   },
   "outputs": [],
   "source": []
  },
  {
   "cell_type": "code",
   "execution_count": 217,
   "metadata": {
    "ExecuteTime": {
     "end_time": "2019-07-22T10:03:28.895291Z",
     "start_time": "2019-07-22T10:03:28.890351Z"
    }
   },
   "outputs": [
    {
     "data": {
      "text/plain": [
       "'0000000000000000000000000000000000000000000000000000000000000000000000000000000000000003333333333330000000000000000000011111111111000004444444444400000444444444400000444444444440000011111111110000000000000000000007777777777700003333333333330000000000000000000011111111110000022222222222000033333333333300000000000000000000777777777770000044444444440000000000000000000011111111111100000000000000000000999999999990000044444444440000011111111111000000000000000000000666666666600000444444444444000011111111111000000000000000000007777777777700000444444444400000111111111110000444444444448000000000000000000000000000000000000000000044444444444000222222222220044444444444000222222222220044444444444400044444444440044444444444400444444444440000444444444400022222222222000222222222220000000000000000000000000000000000'"
      ]
     },
     "execution_count": 217,
     "metadata": {},
     "output_type": "execute_result"
    }
   ],
   "source": [
    "s = ''.join(map(lambda x: str(math.ceil(x))[0], np_lst))\n",
    "s"
   ]
  },
  {
   "cell_type": "code",
   "execution_count": 237,
   "metadata": {
    "ExecuteTime": {
     "end_time": "2019-07-22T11:08:47.801863Z",
     "start_time": "2019-07-22T11:08:47.798073Z"
    }
   },
   "outputs": [
    {
     "data": {
      "text/plain": [
       "[<_sre.SRE_Match object; span=(0, 87), match='0000000000000000000000000000000000000000000000000>,\n",
       " <_sre.SRE_Match object; span=(99, 119), match='00000000000000000000'>,\n",
       " <_sre.SRE_Match object; span=(192, 213), match='000000000000000000000'>,\n",
       " <_sre.SRE_Match object; span=(240, 260), match='00000000000000000000'>,\n",
       " <_sre.SRE_Match object; span=(302, 322), match='00000000000000000000'>,\n",
       " <_sre.SRE_Match object; span=(348, 368), match='00000000000000000000'>,\n",
       " <_sre.SRE_Match object; span=(380, 400), match='00000000000000000000'>,\n",
       " <_sre.SRE_Match object; span=(442, 463), match='000000000000000000000'>,\n",
       " <_sre.SRE_Match object; span=(505, 525), match='00000000000000000000'>,\n",
       " <_sre.SRE_Match object; span=(583, 626), match='0000000000000000000000000000000000000000000'>,\n",
       " <_sre.SRE_Match object; span=(774, 808), match='0000000000000000000000000000000000'>]"
      ]
     },
     "execution_count": 237,
     "metadata": {},
     "output_type": "execute_result"
    }
   ],
   "source": [
    "list(re.finditer(r'0{10,}', s))"
   ]
  },
  {
   "cell_type": "code",
   "execution_count": 245,
   "metadata": {
    "ExecuteTime": {
     "end_time": "2019-07-22T11:12:23.134936Z",
     "start_time": "2019-07-22T11:12:23.114175Z"
    }
   },
   "outputs": [
    {
     "data": {
      "text/plain": [
       "'1周岁：指按照居民身份证、军官证、警官证、士兵证等有效身份证件中记载的出生日期计算的年龄，自出生\\n之日起为零周岁，每经过一年增加一岁，不足一年的不计。 \\n2保单年度：从保险合同生效日或年生效对应日零时起至下一年度保险合同生效对应日零时止为一个保单年\\n度。如果当月无对应的同一日，则以该月最后一日为对应日。 \\n3保险费约定支付日：指在本附加合同交费期限内，保险单或批注上列明的合同生效日在每月、每季、每半年\\n或每年（根据交费方式确定）的对应日。如果当月无对应的同一日，则以该月最后一日作为对应日。 \\n4意外伤害事故：指外来的、突发的、非本意的、非疾病的使身体受到伤害的客观事件。 \\n5医院：国务院卫生行政部门医院等级分类中的二级或二级以上的医院，但不包括主要为门诊、康复、护理、\\n疗养、戒酒、戒毒或相类似的医疗机构。同时该医院必须具有符合有关医院管理规定设置标准的医疗设备，\\n并且提供24小时有合格医师及护士驻院的医疗和护理等服务。 \\n太平附加共享荣耀多次给付重大疾病保险，第3页，共20页 '"
      ]
     },
     "execution_count": 245,
     "metadata": {},
     "output_type": "execute_result"
    }
   ],
   "source": [
    "a.crop((Decimal('0'), Decimal('626'), Decimal('595.320'), Decimal('774'))).extract_text()"
   ]
  },
  {
   "cell_type": "code",
   "execution_count": 69,
   "metadata": {
    "ExecuteTime": {
     "end_time": "2019-07-22T07:08:55.888997Z",
     "start_time": "2019-07-22T07:08:55.886498Z"
    }
   },
   "outputs": [],
   "source": [
    "# a.crop((Decimal('0'), Decimal('524.830'), Decimal('524.830'), Decimal('540.430'))).to_image()"
   ]
  },
  {
   "cell_type": "code",
   "execution_count": null,
   "metadata": {
    "collapsed": true
   },
   "outputs": [],
   "source": []
  },
  {
   "cell_type": "code",
   "execution_count": null,
   "metadata": {
    "collapsed": true
   },
   "outputs": [],
   "source": []
  },
  {
   "cell_type": "code",
   "execution_count": null,
   "metadata": {
    "collapsed": true
   },
   "outputs": [],
   "source": []
  },
  {
   "cell_type": "markdown",
   "metadata": {},
   "source": [
    "# 3. 用lxml解析html文本"
   ]
  },
  {
   "cell_type": "code",
   "execution_count": 34,
   "metadata": {
    "collapsed": true
   },
   "outputs": [],
   "source": [
    "import lxml\n",
    "from lxml import etree"
   ]
  },
  {
   "cell_type": "code",
   "execution_count": null,
   "metadata": {
    "collapsed": true
   },
   "outputs": [],
   "source": []
  },
  {
   "cell_type": "markdown",
   "metadata": {
    "collapsed": true
   },
   "source": [
    "# 4. 前两种方法结合"
   ]
  },
  {
   "cell_type": "code",
   "execution_count": null,
   "metadata": {
    "collapsed": true
   },
   "outputs": [],
   "source": []
  },
  {
   "cell_type": "code",
   "execution_count": null,
   "metadata": {
    "collapsed": true
   },
   "outputs": [],
   "source": []
  },
  {
   "cell_type": "code",
   "execution_count": null,
   "metadata": {
    "collapsed": true
   },
   "outputs": [],
   "source": []
  },
  {
   "cell_type": "code",
   "execution_count": null,
   "metadata": {
    "collapsed": true
   },
   "outputs": [],
   "source": []
  },
  {
   "cell_type": "code",
   "execution_count": null,
   "metadata": {
    "collapsed": true
   },
   "outputs": [],
   "source": []
  }
 ],
 "metadata": {
  "kernelspec": {
   "display_name": "Python 3",
   "language": "python",
   "name": "python3"
  },
  "language_info": {
   "codemirror_mode": {
    "name": "ipython",
    "version": 3
   },
   "file_extension": ".py",
   "mimetype": "text/x-python",
   "name": "python",
   "nbconvert_exporter": "python",
   "pygments_lexer": "ipython3",
   "version": "3.6.1"
  }
 },
 "nbformat": 4,
 "nbformat_minor": 2
}
