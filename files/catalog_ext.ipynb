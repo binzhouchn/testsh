{
 "cells": [
  {
   "cell_type": "code",
   "execution_count": 568,
   "metadata": {
    "ExecuteTime": {
     "end_time": "2019-07-18T06:44:03.842726Z",
     "start_time": "2019-07-18T06:44:03.839677Z"
    },
    "collapsed": true,
    "scrolled": false
   },
   "outputs": [],
   "source": [
    "import os\n",
    "import time\n",
    "import re\n",
    "import pdfplumber\n",
    "from decimal import Decimal"
   ]
  },
  {
   "cell_type": "code",
   "execution_count": 1,
   "metadata": {
    "ExecuteTime": {
     "end_time": "2019-07-20T09:09:57.090616Z",
     "start_time": "2019-07-20T09:09:56.967032Z"
    }
   },
   "outputs": [
    {
     "name": "stdout",
     "output_type": "stream",
     "text": [
      "/Users/binzhou/PycharmProjects/testsh/files\r\n"
     ]
    }
   ],
   "source": [
    "!pwd"
   ]
  },
  {
   "cell_type": "markdown",
   "metadata": {},
   "source": [
    "# 1. 用pdfplumber解析文本"
   ]
  },
  {
   "cell_type": "code",
   "execution_count": 12,
   "metadata": {
    "ExecuteTime": {
     "end_time": "2019-07-17T11:56:45.076694Z",
     "start_time": "2019-07-17T11:56:45.065516Z"
    },
    "collapsed": true
   },
   "outputs": [],
   "source": [
    "# 识别流程一 detect_catalog_pagination\n",
    "import re\n",
    "def detect_catalog_pagination(pdf):\n",
    "        catalog_type = 'clean'\n",
    "        # 定位一、二\n",
    "        for i, page in enumerate(pdf.pages):\n",
    "                if [i for i in page.extract_text().split('\\n') if i.strip().replace(' ', '') in ('目录', '条款目录')]:\n",
    "                    return i, catalog_type\n",
    "                if [i for i in page.extract_text().split('\\n') if ''.join(re.findall(u\"([\\u4e00-\\u9fa5])\",i)) in ('目录', '条款目录')]:\n",
    "                    catalog_type = 'impurity'\n",
    "                    return i, catalog_type\n",
    "        # 定位三\n",
    "        for i, page in enumerate(pdf.pages):\n",
    "            if '条款目录' in page.extract_text().strip().replace(' ',''):\n",
    "                catalog_type = 'impurity'\n",
    "                return i, catalog_type\n",
    "        return -1, catalog_type"
   ]
  },
  {
   "cell_type": "markdown",
   "metadata": {},
   "source": [
    "## 1.1 form_1 目录比较清晰，按顺序下来，没有左右的情况）（左右情况见富德人寿） clean的情况"
   ]
  },
  {
   "cell_type": "code",
   "execution_count": 803,
   "metadata": {
    "ExecuteTime": {
     "end_time": "2019-07-19T03:47:04.857604Z",
     "start_time": "2019-07-19T03:47:03.526472Z"
    }
   },
   "outputs": [
    {
     "data": {
      "text/plain": [
       "(1, 'clean')"
      ]
     },
     "execution_count": 803,
     "metadata": {},
     "output_type": "execute_result"
    }
   ],
   "source": [
    "feePDF = 'data/1-太平荣耀钻账户终身寿险（万能型）条款.pdf'\n",
    "pdf = pdfplumber.open(feePDF)\n",
    "catalog_idx, catalog_type = detect_catalog_pagination(pdf)\n",
    "catalog_idx, catalog_type"
   ]
  },
  {
   "cell_type": "code",
   "execution_count": 804,
   "metadata": {
    "ExecuteTime": {
     "end_time": "2019-07-19T03:47:05.533059Z",
     "start_time": "2019-07-19T03:47:05.505175Z"
    },
    "collapsed": true
   },
   "outputs": [],
   "source": [
    "for i, page in enumerate(pdf.pages):\n",
    "    a = page.extract_text()\n",
    "    if i == 1:\n",
    "        break"
   ]
  },
  {
   "cell_type": "code",
   "execution_count": 805,
   "metadata": {
    "ExecuteTime": {
     "end_time": "2019-07-19T03:47:05.744792Z",
     "start_time": "2019-07-19T03:47:05.739446Z"
    },
    "collapsed": true
   },
   "outputs": [],
   "source": [
    "def catalog_ext_form1(page_text):\n",
    "    flag = False\n",
    "    res = []\n",
    "    page_text_clean = [i.strip() for i in page_text.split('\\n') if i.strip() and not re.findall(r'[\\u4e00-\\u9fa5]+\\d+[\\u4e00-\\u9fa5]*', i) and \\\n",
    "     (i.strip().replace(' ', '') != '条款目录' and i.strip().replace(' ', '') != '目录')]\n",
    "    res = [re.sub(r'\\.\\.+', '', i).split() for i in page_text_clean]\n",
    "    return res"
   ]
  },
  {
   "cell_type": "code",
   "execution_count": 806,
   "metadata": {
    "ExecuteTime": {
     "end_time": "2019-07-19T03:47:06.811860Z",
     "start_time": "2019-07-19T03:47:06.804245Z"
    }
   },
   "outputs": [
    {
     "data": {
      "text/plain": [
       "[['第一部分', '您（投保人）与我们（太平人寿保险有限公司）的合同', '4'],\n",
       " ['第一条', '保险合同的构成', '4'],\n",
       " ['第二条', '投保范围', '4'],\n",
       " ['第三条', '保险合同成立与生效', '4'],\n",
       " ['第四条', '保险期间', '4'],\n",
       " ['第二部分', '我们提供哪些保障利益', '4'],\n",
       " ['第五条', '基本保险金额及有效保险金额', '4'],\n",
       " ['第六条', '保险责任', '4'],\n",
       " ['第七条', '责任免除', '5'],\n",
       " ['第三部分', '如何支付保险费', '5'],\n",
       " ['第八条', '保险费的支付', '5'],\n",
       " ['第九条', '风险保险费', '5'],\n",
       " ['第十条', '宽限期', '6'],\n",
       " ['第十一条', '相关费用', '6'],\n",
       " ['第十二条', '持续奖励', '6'],\n",
       " ['第四部分', '我们的账户是如何运作的', '6'],\n",
       " ['第十三条', '账户运作', '6'],\n",
       " ['第十四条', '保单账户价值', '6'],\n",
       " ['第十五条', '保证利率', '7'],\n",
       " ['第十六条', '结算利率', '7'],\n",
       " ['第十七条', '保单利息', '7'],\n",
       " ['第五部分', '如何申请保险金', '7'],\n",
       " ['第十八条', '受益人', '7'],\n",
       " ['第十九条', '保险事故通知', '8'],\n",
       " ['第二十条', '诉讼时效', '8'],\n",
       " ['第二十一条', '保险金申请', '8'],\n",
       " ['第二十二条', '保险金给付', '8'],\n",
       " ['第二十三条', '司法鉴定', '8'],\n",
       " ['第二十四条', '失踪处理', '8'],\n",
       " ['第六部分', '您还享有哪些权益', '9'],\n",
       " ['第二十五条', '保单贷款', '9'],\n",
       " ['第二十六条', '保单账户价值的部分提取权', '9'],\n",
       " ['第二十七条', '合同内容的变更权', '9'],\n",
       " ['第二十八条', '合同效力的中止与恢复', '9'],\n",
       " ['第二十九条', '犹豫期', '10'],\n",
       " ['第三十条', '您解除合同的手续及风险', '10'],\n",
       " ['第七部分', '您必须了解的其他事项', '10'],\n",
       " ['第三十一条', '明确说明与如实告知', '10'],\n",
       " ['第三十二条', '我们合同解除权的限制', '10'],\n",
       " ['第三十三条', '年龄错误', '11'],\n",
       " ['第三十四条', '性别错误', '11'],\n",
       " ['第三十五条', '未还款项', '11'],\n",
       " ['第三十六条', '保险合同的终止', '11'],\n",
       " ['第三十七条', '联系方式的变更', '11']]"
      ]
     },
     "execution_count": 806,
     "metadata": {},
     "output_type": "execute_result"
    }
   ],
   "source": [
    "catalog_ext_form1(a)"
   ]
  },
  {
   "cell_type": "code",
   "execution_count": null,
   "metadata": {
    "collapsed": true
   },
   "outputs": [],
   "source": []
  },
  {
   "cell_type": "code",
   "execution_count": null,
   "metadata": {
    "collapsed": true
   },
   "outputs": [],
   "source": []
  },
  {
   "cell_type": "code",
   "execution_count": null,
   "metadata": {
    "collapsed": true
   },
   "outputs": [],
   "source": []
  },
  {
   "cell_type": "code",
   "execution_count": null,
   "metadata": {
    "collapsed": true
   },
   "outputs": [],
   "source": []
  },
  {
   "cell_type": "code",
   "execution_count": null,
   "metadata": {
    "collapsed": true
   },
   "outputs": [],
   "source": []
  },
  {
   "cell_type": "markdown",
   "metadata": {},
   "source": [
    "## 1.2 form_2 目录竖的下来，可能有两三列（比如天安人寿）\n",
    "### 考虑clean和impurity两种情况"
   ]
  },
  {
   "cell_type": "code",
   "execution_count": 728,
   "metadata": {
    "ExecuteTime": {
     "end_time": "2019-07-19T03:09:05.359100Z",
     "start_time": "2019-07-19T03:09:02.071573Z"
    }
   },
   "outputs": [
    {
     "data": {
      "text/plain": [
       "(0, 'clean')"
      ]
     },
     "execution_count": 728,
     "metadata": {},
     "output_type": "execute_result"
    }
   ],
   "source": [
    "# feePDF = 'data/华康C款团体重大疾病保险条款.pdf'\n",
    "feePDF = 'data/1-太平荣耀钻账户终身寿险（万能型）条款.pdf'\n",
    "feePDF = 'data/天安人寿爱守护（至尊保）终身重大疾病保险条款.pdf'\n",
    "pdf = pdfplumber.open(feePDF)\n",
    "catalog_idx, catalog_type = detect_catalog_pagination(pdf)\n",
    "catalog_idx, catalog_type"
   ]
  },
  {
   "cell_type": "code",
   "execution_count": 729,
   "metadata": {
    "ExecuteTime": {
     "end_time": "2019-07-19T03:09:07.011463Z",
     "start_time": "2019-07-19T03:09:07.001268Z"
    },
    "collapsed": true
   },
   "outputs": [],
   "source": [
    "for i, page in enumerate(pdf.pages):\n",
    "    a = page.extract_text()\n",
    "    if i == 0:\n",
    "        break"
   ]
  },
  {
   "cell_type": "code",
   "execution_count": 292,
   "metadata": {
    "ExecuteTime": {
     "end_time": "2019-07-18T02:46:23.051641Z",
     "start_time": "2019-07-18T02:46:23.047997Z"
    }
   },
   "outputs": [
    {
     "data": {
      "text/plain": [
       "'\\n从条款目录开始\\n过滤掉目录到最后杂质\\n'"
      ]
     },
     "execution_count": 292,
     "metadata": {},
     "output_type": "execute_result"
    }
   ],
   "source": [
    "'''\n",
    "从条款目录开始\n",
    "过滤掉目录到最后杂质\n",
    "'''"
   ]
  },
  {
   "cell_type": "code",
   "execution_count": 478,
   "metadata": {
    "ExecuteTime": {
     "end_time": "2019-07-17T01:10:53.043268Z",
     "start_time": "2019-07-17T01:10:53.035812Z"
    },
    "collapsed": true
   },
   "outputs": [],
   "source": [
    "# 版本一\n",
    "def catalog_ext_form2(page_text):\n",
    "    flag = False\n",
    "    res = []\n",
    "    for s in page_text.split('\\n'):\n",
    "        if s.strip().replace(' ', '') in ('目录', '条款目录'):\n",
    "            flag = True\n",
    "            continue\n",
    "        if flag:\n",
    "            lst = re.findall(r'(?:\\d\\.\\d*[\\u4e00-\\u9fa5]+[、，!！&%@#$]*[\\u4e00-\\u9fa5]*)', s.strip().replace('．', '.').replace(' ', ''))\n",
    "            if not lst:\n",
    "                continue\n",
    "            lst = [re.findall(r'(\\d\\.\\d*)([\\u4e00-\\u9fa5]+[、，!！&%@#$]*[\\u4e00-\\u9fa5]*)', i)[0] for i in lst]\n",
    "            res += lst\n",
    "    return sorted(res, key=lambda x : (float(x[0].split('.')[0]), len(x[0]), float(x[0])))"
   ]
  },
  {
   "cell_type": "code",
   "execution_count": 245,
   "metadata": {
    "ExecuteTime": {
     "end_time": "2019-07-18T01:38:06.214698Z",
     "start_time": "2019-07-18T01:38:06.199117Z"
    },
    "collapsed": true
   },
   "outputs": [],
   "source": [
    "# 版本二\n",
    "def catalog_ext_form2(page_text):\n",
    "    flag = False\n",
    "    res = []\n",
    "    _d = dict()\n",
    "    _d_i = 97\n",
    "    for s in page_text.split('\\n'):\n",
    "        if s.strip().replace(' ', '') in ('目录', '条款目录'):\n",
    "            flag = True\n",
    "            continue\n",
    "        if flag:\n",
    "            l1 = re.findall(r'\\d+种', s)\n",
    "            if l1:\n",
    "                s = s.replace(l1[0], '龘龘'+chr(_d_i))\n",
    "                _d.setdefault('龘龘'+chr(_d_i), l1[0])\n",
    "                _d_i += 1\n",
    "            lst = re.findall(r'(?:\\d+\\.\\d*[\\u4e00-\\u9fa5]+[a-z]*\\d*[\\u4e00-\\u9fa5]+[、，!！&%@#$]*[\\u4e00-\\u9fa5]*)', s.strip().replace('．', '.').replace(' ', ''))\n",
    "            if not lst:\n",
    "                continue\n",
    "            lst = [re.findall(r'(\\d+\\.\\d*)([\\u4e00-\\u9fa5]+[a-z]*\\d*[\\u4e00-\\u9fa5]+[、，!！&%@#$]*[\\u4e00-\\u9fa5]*)', i)[0] for i in lst]\n",
    "            for k, v in lst:\n",
    "                l2 = re.findall(r'龘龘[a-z]+', v)\n",
    "                if l2:\n",
    "                    v = v.replace(l2[0], _d[l2[0]])\n",
    "                res.append((k, v))\n",
    "    return sorted(res, key=lambda x : (float(x[0].split('.')[0]), len(x[0]), float(x[0])))"
   ]
  },
  {
   "cell_type": "code",
   "execution_count": 236,
   "metadata": {
    "ExecuteTime": {
     "end_time": "2019-07-18T01:25:45.144675Z",
     "start_time": "2019-07-18T01:25:45.125992Z"
    },
    "collapsed": true
   },
   "outputs": [],
   "source": [
    "# 版本三\n",
    "def catalog_ext_form2(page_text):\n",
    "    flag = False\n",
    "    res = []\n",
    "    _d = dict()\n",
    "    _d_i = 97\n",
    "    for s in page_text.split('\\n'):\n",
    "        if s.strip().replace(' ', '') in ('目录', '条款目录'):\n",
    "            flag = True\n",
    "            continue\n",
    "        if flag:\n",
    "            # 85种xxx的情况\n",
    "            l1 = re.findall(r'\\d+种', s)\n",
    "            if l1:\n",
    "                s = s.replace(l1[0], '龘龘'+chr(_d_i))\n",
    "                _d.setdefault('龘龘'+chr(_d_i), l1[0])\n",
    "                _d_i += 1\n",
    "\n",
    "            # 目录数标没有点的情况，比如 【5 保险费的交纳  10其他需要关注的事项】\n",
    "            l3 = re.findall(r'(?:^\\d+(?!\\.)\\s+)|(?:\\s+\\d+(?!\\d+)(?!\\.))(?!种)', s)\n",
    "            if l3:\n",
    "                for i in l3:\n",
    "                    s = s.replace(i, ' '+i.strip()+'. ')\n",
    "            #\n",
    "            lst = re.findall(r'(?:\\d+\\.\\d*[\\u4e00-\\u9fa5]+[a-z]*\\d*[\\u4e00-\\u9fa5]+[、，!！&%@#$]*[\\u4e00-\\u9fa5]*)', s.strip().replace('．', '.').replace(' ', ''))\n",
    "            if not lst:\n",
    "                continue\n",
    "            lst = [re.findall(r'(\\d+\\.\\d*)([\\u4e00-\\u9fa5]+[a-z]*\\d*[\\u4e00-\\u9fa5]+[、，!！&%@#$]*[\\u4e00-\\u9fa5]*)', i)[0] for i in lst]\n",
    "            for k, v in lst:\n",
    "                l2 = re.findall(r'龘龘[a-z]+', v)\n",
    "                if l2:\n",
    "                    v = v.replace(l2[0], _d[l2[0]])\n",
    "                res.append((k, v))\n",
    "    return sorted(res, key=lambda x : (float(x[0].split('.')[0]), len(x[0]), float(x[0])))"
   ]
  },
  {
   "cell_type": "code",
   "execution_count": 730,
   "metadata": {
    "ExecuteTime": {
     "end_time": "2019-07-19T03:09:11.511595Z",
     "start_time": "2019-07-19T03:09:11.505735Z"
    },
    "collapsed": true
   },
   "outputs": [],
   "source": [
    "# small tools\n",
    "def xmerge(a, b):\n",
    "    alen, blen = len(a), len(b)\n",
    "    mlen = min(alen, blen)\n",
    "    for i in range(mlen):\n",
    "        yield a[i]\n",
    "        yield b[i]\n",
    "\n",
    "    if alen > blen:\n",
    "        for i in range(mlen, alen):\n",
    "            yield a[i]\n",
    "    else:\n",
    "        for i in range(mlen, blen):\n",
    "            yield b[i]"
   ]
  },
  {
   "cell_type": "code",
   "execution_count": 731,
   "metadata": {
    "ExecuteTime": {
     "end_time": "2019-07-19T03:09:11.902358Z",
     "start_time": "2019-07-19T03:09:11.871938Z"
    },
    "collapsed": true
   },
   "outputs": [],
   "source": [
    "# 版本四\n",
    "\n",
    "def catalog_ext_form2(page_text, mode):\n",
    "    flag = False\n",
    "    res = []\n",
    "    _d = dict()\n",
    "    _d_i = 97\n",
    "    for s in page_text.split('\\n'):\n",
    "        if not flag:\n",
    "            if mode == 'clean' and s.strip().replace(' ', '') in ('目录', '条款目录'):\n",
    "                flag = True\n",
    "                continue\n",
    "            if mode == 'impurity' and ('条款目录' in s.strip().replace(' ', '') or '目录' in s.strip().replace(' ', '')):\n",
    "                flag = True\n",
    "                continue\n",
    "        if flag:\n",
    "            # 85种xxx的情况\n",
    "            l1 = re.findall(r'\\d+种', s)\n",
    "            if l1:\n",
    "                s = s.replace(l1[0], '龘龘'+chr(_d_i))\n",
    "                _d.setdefault('龘龘'+chr(_d_i), l1[0])\n",
    "                _d_i += 1\n",
    "            # 先把字符串合并，即strip然后去掉所有空格\n",
    "            s = s.strip().replace('．', '.').replace(' ', '')\n",
    "            # 目录数标没有点的情况，比如 【5保险费的交纳10其他需要关注的事项】\n",
    "            l3 = re.findall(r'\\d+\\.*\\d*', s)\n",
    "            if l3:\n",
    "                l3_1 = re.split(r'\\d+\\.*\\d*', s)\n",
    "                l3 = [i+'.' if '.' not in i else i for i in l3]\n",
    "                s = ''.join([i for i in xmerge(l3_1, l3)])\n",
    "            #\n",
    "            lst = re.findall(r'(?:\\d+\\.\\d*[\\u4e00-\\u9fa5]+[a-z]*\\d*[\\u4e00-\\u9fa5]+[、，!！&%@#$]*[\\u4e00-\\u9fa5]*)', s)\n",
    "            if not lst:\n",
    "                continue\n",
    "            lst = [re.findall(r'(\\d+\\.\\d*)([\\u4e00-\\u9fa5]+[a-z]*\\d*[\\u4e00-\\u9fa5]+[、，!！&%@#$]*[\\u4e00-\\u9fa5]*)', i)[0] for i in lst]\n",
    "            for k, v in lst:\n",
    "                l2 = re.findall(r'龘龘[a-z]+', v)\n",
    "                if l2:\n",
    "                    v = v.replace(l2[0], _d[l2[0]])\n",
    "                res.append((k, v))\n",
    "    return sorted(res, key=lambda x : (float(x[0].split('.')[0]), len(x[0]), float(x[0])))"
   ]
  },
  {
   "cell_type": "code",
   "execution_count": 732,
   "metadata": {
    "ExecuteTime": {
     "end_time": "2019-07-19T03:09:16.681678Z",
     "start_time": "2019-07-19T03:09:16.674115Z"
    }
   },
   "outputs": [
    {
     "data": {
      "text/plain": [
       "[('1.', '您与我们的合同'),\n",
       " ('1.1', '投保范围'),\n",
       " ('1.2', '合同构成'),\n",
       " ('1.3', '合同成立与生效'),\n",
       " ('1.4', '犹豫期'),\n",
       " ('1.5', '合同内容变更'),\n",
       " ('1.6', '您解除合同的手续'),\n",
       " ('1.7', '合同终止'),\n",
       " ('2.', '我们提供的保障'),\n",
       " ('2.1', '基本保险金额'),\n",
       " ('2.2', '保险期间'),\n",
       " ('2.3', '保险责任'),\n",
       " ('2.4', '责任免除'),\n",
       " ('3.', '您的权利和义务'),\n",
       " ('3.1', '保险费的交纳'),\n",
       " ('3.2', '续期保险费的'),\n",
       " ('3.3', '合同效力中止'),\n",
       " ('3.4', '合同效力恢复'),\n",
       " ('3.5', '减保'),\n",
       " ('3.6', '保单质押贷款'),\n",
       " ('3.7', '年金转换选择'),\n",
       " ('3.8', '保险费自动垫交'),\n",
       " ('4.', '保险金的申请与给付'),\n",
       " ('4.1', '保险金受益人的指定和变更'),\n",
       " ('4.2', '保险事故通知'),\n",
       " ('4.3', '保险金及豁免保险费的申请'),\n",
       " ('4.4', '保险金的给付'),\n",
       " ('4.5', '未还款项的扣除'),\n",
       " ('4.6', '诉讼时效'),\n",
       " ('5.', '其他需要关注的事项'),\n",
       " ('5.1', '明确说明与如实告知'),\n",
       " ('5.2', '本公司合同解除权的限制'),\n",
       " ('5.3', '年龄确定与错误处理'),\n",
       " ('5.4', '地址变更'),\n",
       " ('5.5', '失踪处理'),\n",
       " ('5.6', '争议处理'),\n",
       " ('6.', '释义'),\n",
       " ('6.1', '周岁'),\n",
       " ('6.2', '现金价值'),\n",
       " ('6.3', '认可医院'),\n",
       " ('6.4', '专科医生'),\n",
       " ('6.5', '初次发生'),\n",
       " ('6.6', '本合同所指的轻症疾病'),\n",
       " ('6.7', '意外伤害'),\n",
       " ('6.8', '本合同所指的中症疾病'),\n",
       " ('6.9', '本合同所指的重大疾病'),\n",
       " ('6.10', '住院'),\n",
       " ('6.11', '实际住院天数'),\n",
       " ('6.12', '保单年度'),\n",
       " ('6.13', '重大疾病分组'),\n",
       " ('6.14', '本保险实际交纳的保险费'),\n",
       " ('6.15', '保单生效对应日'),\n",
       " ('6.16', '疾病终末期阶段'),\n",
       " ('6.17', '毒品'),\n",
       " ('6.18', '酒后驾驶'),\n",
       " ('6.19', '无合法有效驾驶证驾驶'),\n",
       " ('6.20', '无有效行驶证'),\n",
       " ('6.21', '机动车'),\n",
       " ('6.22', '遗传性疾病'),\n",
       " ('6.23', '先天性畸形、变形或染色体异常'),\n",
       " ('6.24', '感染艾滋病病毒或患艾滋病'),\n",
       " ('6.25', '永久不可逆'),\n",
       " ('6.26', '六项基本日常生活活动')]"
      ]
     },
     "execution_count": 732,
     "metadata": {},
     "output_type": "execute_result"
    }
   ],
   "source": [
    "# mode = 'impurity'\n",
    "mode = 'clean'\n",
    "catalog_ext_form2(a, mode)"
   ]
  },
  {
   "cell_type": "code",
   "execution_count": null,
   "metadata": {
    "collapsed": true
   },
   "outputs": [],
   "source": []
  },
  {
   "cell_type": "code",
   "execution_count": null,
   "metadata": {
    "collapsed": true
   },
   "outputs": [],
   "source": []
  },
  {
   "cell_type": "code",
   "execution_count": null,
   "metadata": {
    "collapsed": true
   },
   "outputs": [],
   "source": []
  },
  {
   "cell_type": "code",
   "execution_count": 231,
   "metadata": {
    "ExecuteTime": {
     "end_time": "2019-07-16T09:36:49.881225Z",
     "start_time": "2019-07-16T09:36:49.822794Z"
    },
    "collapsed": true
   },
   "outputs": [],
   "source": [
    "def analyzePDF_step1_lineInfo(pdfPath):\n",
    "    '''\n",
    "    对pdf进行初步解析，将解析结果存入字典\n",
    "    :param pdfPath:\n",
    "    :return:\n",
    "    pdfDic = {int pageIndex: # pageIndex\n",
    "              {\n",
    "                  'lineDic': {},  # {y0:{'element':list,'content':str}}\n",
    "                  'DiseaseRegion': {}  # {x0:float,y0:float,x1:float,y1:float,bboxList[(4-tuple),...]}\n",
    "              }\n",
    "              }\n",
    "    '''\n",
    "\n",
    "    pdfDic = {}\n",
    "    with pdfplumber.open(pdfPath) as pdf:\n",
    "        for i, page in enumerate(pdf.pages):\n",
    "            pageNo = i+1\n",
    "            pdfDic[pageNo] = {}\n",
    "            #pdfDic[pageNo] = {'pdfplumberPage':page}\n",
    "            chars = page.chars\n",
    "            # 1.字符组合成行：所有纵坐标一样的char形成line\n",
    "            lineDic = {}\n",
    "            for char in chars:\n",
    "                # 把每个char归到各个行中\n",
    "                y0 = float(char['y0'])\n",
    "                hit = 0\n",
    "                for key in lineDic.keys():\n",
    "                    if abs(y0 - key) < float(char['height']) * 0.3:\n",
    "                        hit += 1\n",
    "                        lineDic[key]['element'].append(char)\n",
    "                if hit == 0:\n",
    "                    lineDic[y0] = {'element': []}\n",
    "                    lineDic[y0]['element'].append(char)\n",
    "            resultLineDic = {}\n",
    "            for key, line in lineDic.items():\n",
    "                text = ''\n",
    "                temp = sorted(line['element'], key=lambda x:x['x0'], reverse=False)\n",
    "                leftBound = temp[0]['x0']  # 最左字符x0\n",
    "                rightBound = temp[-1]['x1']  # 最右字符x1\n",
    "                lowerBound = None\n",
    "                upperBound = None\n",
    "                for char in line['element']:\n",
    "                    text += char['text']\n",
    "                    lowerBound = char['y0'] if lowerBound == None or char['y0'] < lowerBound else lowerBound\n",
    "                    upperBound = char['y1'] if upperBound == None or char['y1'] > upperBound else upperBound\n",
    "                text = re.sub(r'[\\s]+', '', text)\n",
    "                if len(text) != 0:\n",
    "                    lineDic[key]['content'] = text\n",
    "                    lineDic[key]['x0'] = leftBound\n",
    "                    lineDic[key]['x1'] = rightBound\n",
    "                    lineDic[key]['y0'] = lowerBound\n",
    "                    lineDic[key]['y1'] = upperBound\n",
    "                    resultLineDic[key] = lineDic[key]\n",
    "            pdfDic[pageNo]['lineDic'] = resultLineDic\n",
    "            break\n",
    "\n",
    "    return pdfDic\n",
    "def getKeywordRegion(keyword, pdfDic):\n",
    "    '''\n",
    "\n",
    "    :param keyword: 待定位的关键词\n",
    "    :param pdfDic: analyzePDF_step1_lineInfo返回的字典\n",
    "    :return:\n",
    "    '''\n",
    "    location = {}\n",
    "    for pageNo, lineDic in pdfDic.items():\n",
    "        for _, line in lineDic['lineDic'].items():\n",
    "            if keyword == line['content']:\n",
    "                location['pageNo'] = pageNo\n",
    "                location['x0'] = float(line['x0'])\n",
    "                location['x1'] = float(line['x1'])\n",
    "                location['y0'] = float(line['y0'])\n",
    "                location['y1'] = float(line['y1'])\n",
    "    return location"
   ]
  },
  {
   "cell_type": "code",
   "execution_count": 232,
   "metadata": {
    "ExecuteTime": {
     "end_time": "2019-07-16T09:36:55.476006Z",
     "start_time": "2019-07-16T09:36:51.938520Z"
    },
    "collapsed": true
   },
   "outputs": [],
   "source": [
    "pdfDic = analyzePDF_step1_lineInfo(feePDF)"
   ]
  },
  {
   "cell_type": "code",
   "execution_count": 236,
   "metadata": {
    "ExecuteTime": {
     "end_time": "2019-07-16T09:38:24.040811Z",
     "start_time": "2019-07-16T09:38:24.037263Z"
    }
   },
   "outputs": [
    {
     "data": {
      "text/plain": [
       "{}"
      ]
     },
     "execution_count": 236,
     "metadata": {},
     "output_type": "execute_result"
    }
   ],
   "source": [
    "getKeywordRegion('目录', pdfDic)"
   ]
  },
  {
   "cell_type": "code",
   "execution_count": null,
   "metadata": {
    "collapsed": true
   },
   "outputs": [],
   "source": []
  },
  {
   "cell_type": "code",
   "execution_count": null,
   "metadata": {
    "collapsed": true
   },
   "outputs": [],
   "source": []
  },
  {
   "cell_type": "code",
   "execution_count": null,
   "metadata": {
    "collapsed": true
   },
   "outputs": [],
   "source": []
  },
  {
   "cell_type": "code",
   "execution_count": 38,
   "metadata": {},
   "outputs": [
    {
     "name": "stdout",
     "output_type": "stream",
     "text": [
      "21\n"
     ]
    }
   ],
   "source": [
    "str_num = \"二十一\"\n",
    "# 一、定义转换字典\n",
    "num_dict = {\"一\": \"1\", \"二\": \"2\", \"三\": \"3\", \"四\": \"4\", \"五\": \"5\", \"六\": \"6\", \"七\": \"7\", \"八\": \"8\", \"九\": \"9\", \"十\": \"\"}\n",
    "# 将中文的数字替换成阿拉伯数字\n",
    "# 针对不同的情况进行判断和字典的更改\n",
    "if str_num[0] == \"十\" and len(str_num) > 1:\n",
    "    num_dict[\"十\"] = \"1\"\n",
    "if str_num[0] == \"十\" and len(str_num) == 1:\n",
    "    num_dict[\"十\"] = \"10\"\n",
    "if str_num[1] == \"十\" and len(str_num) == 2:\n",
    "    num_dict[\"十\"] = \"0\"\n",
    "num = \"\"\n",
    "# 遍历字典并对中文数字进行替换\n",
    "for str in str_num:\n",
    "    for key in num_dict:\n",
    "        if key == str:\n",
    "            num += num_dict[key]\n",
    "            break\n",
    "print(num)\n"
   ]
  },
  {
   "cell_type": "code",
   "execution_count": null,
   "metadata": {
    "collapsed": true
   },
   "outputs": [],
   "source": []
  },
  {
   "cell_type": "code",
   "execution_count": null,
   "metadata": {
    "collapsed": true
   },
   "outputs": [],
   "source": []
  },
  {
   "cell_type": "code",
   "execution_count": null,
   "metadata": {
    "collapsed": true
   },
   "outputs": [],
   "source": []
  },
  {
   "cell_type": "code",
   "execution_count": null,
   "metadata": {
    "collapsed": true
   },
   "outputs": [],
   "source": []
  },
  {
   "cell_type": "code",
   "execution_count": null,
   "metadata": {
    "collapsed": true
   },
   "outputs": [],
   "source": []
  },
  {
   "cell_type": "code",
   "execution_count": null,
   "metadata": {
    "collapsed": true
   },
   "outputs": [],
   "source": []
  },
  {
   "cell_type": "markdown",
   "metadata": {},
   "source": [
    "# 2. 用lxml解析html文本"
   ]
  },
  {
   "cell_type": "code",
   "execution_count": 34,
   "metadata": {
    "collapsed": true
   },
   "outputs": [],
   "source": [
    "import lxml\n",
    "from lxml import etree"
   ]
  },
  {
   "cell_type": "code",
   "execution_count": null,
   "metadata": {
    "collapsed": true
   },
   "outputs": [],
   "source": []
  },
  {
   "cell_type": "code",
   "execution_count": null,
   "metadata": {
    "collapsed": true
   },
   "outputs": [],
   "source": []
  },
  {
   "cell_type": "code",
   "execution_count": null,
   "metadata": {
    "collapsed": true
   },
   "outputs": [],
   "source": []
  },
  {
   "cell_type": "code",
   "execution_count": null,
   "metadata": {
    "collapsed": true
   },
   "outputs": [],
   "source": []
  },
  {
   "cell_type": "markdown",
   "metadata": {
    "collapsed": true
   },
   "source": [
    "# 3. 前两种方法结合"
   ]
  },
  {
   "cell_type": "code",
   "execution_count": 722,
   "metadata": {
    "ExecuteTime": {
     "end_time": "2019-07-19T02:09:53.737340Z",
     "start_time": "2019-07-19T02:09:53.733796Z"
    }
   },
   "outputs": [
    {
     "data": {
      "text/plain": [
       "<pdfplumber.page.Page at 0x1303d14a8>"
      ]
     },
     "execution_count": 722,
     "metadata": {},
     "output_type": "execute_result"
    }
   ],
   "source": [
    "b"
   ]
  },
  {
   "cell_type": "code",
   "execution_count": 720,
   "metadata": {
    "ExecuteTime": {
     "end_time": "2019-07-19T02:09:29.483643Z",
     "start_time": "2019-07-19T02:09:29.478616Z"
    }
   },
   "outputs": [
    {
     "data": {
      "text/plain": [
       "(Decimal('0'), Decimal('0'), Decimal('595.200'), Decimal('841.920'))"
      ]
     },
     "execution_count": 720,
     "metadata": {},
     "output_type": "execute_result"
    }
   ],
   "source": [
    "b = pdf.pages[0]\n",
    "b.bbox"
   ]
  },
  {
   "cell_type": "code",
   "execution_count": 723,
   "metadata": {
    "ExecuteTime": {
     "end_time": "2019-07-19T02:09:57.513924Z",
     "start_time": "2019-07-19T02:09:57.510862Z"
    },
    "collapsed": true
   },
   "outputs": [],
   "source": [
    "c = b.crop((Decimal('0'), Decimal('0'), Decimal('295.200'), Decimal('441.920')))"
   ]
  },
  {
   "cell_type": "code",
   "execution_count": 725,
   "metadata": {
    "ExecuteTime": {
     "end_time": "2019-07-19T02:11:58.128940Z",
     "start_time": "2019-07-19T02:11:58.123842Z"
    }
   },
   "outputs": [
    {
     "data": {
      "text/plain": [
       "' \\n阅  读 \\n\\uf043\\n平安小福星终身寿险产品提供身故保障 \\n\\uf043\\n为了帮助您更好地了解产品，我们先介绍几个保\\n\\uf076  被保险人就是受保险合同保障的人。 \\n\\uf076  投保人就是购买保险并交纳保险费的人。 \\n\\uf076  受益人就是发生保险事故后领取保险金的人\\n\\uf076  保险人就是保险公司。 \\n\\uf043\\n下面我们举例说明本产品提供哪些保障 \\n例子：王先生为儿子小王（0 周岁）投保平安小\\n51万元，指定身故保险金受益人为王先生本人。\\n险（简称小福星重疾）。 \\n本例中王先生为投保人及受益人，小王为被保险\\n保险金  领取人  给付金额\\n身故保险金  王先生  51万元\\n以上举例仅供您更好地理解产品之用，您所购买\\n\\uf043 \\n条款目录 \\n '"
      ]
     },
     "execution_count": 725,
     "metadata": {},
     "output_type": "execute_result"
    }
   ],
   "source": [
    "c.extract_text()"
   ]
  },
  {
   "cell_type": "code",
   "execution_count": null,
   "metadata": {
    "collapsed": true
   },
   "outputs": [],
   "source": []
  }
 ],
 "metadata": {
  "kernelspec": {
   "display_name": "Python 3",
   "language": "python",
   "name": "python3"
  },
  "language_info": {
   "codemirror_mode": {
    "name": "ipython",
    "version": 3
   },
   "file_extension": ".py",
   "mimetype": "text/x-python",
   "name": "python",
   "nbconvert_exporter": "python",
   "pygments_lexer": "ipython3",
   "version": "3.6.1"
  }
 },
 "nbformat": 4,
 "nbformat_minor": 2
}
